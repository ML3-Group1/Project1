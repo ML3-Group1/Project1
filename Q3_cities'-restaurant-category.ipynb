{
 "cells": [
  {
   "cell_type": "code",
   "execution_count": 3,
   "metadata": {
    "collapsed": true
   },
   "outputs": [],
   "source": [
    "import numpy as np\n",
    "import pandas as pd\n",
    "import matplotlib.pyplot as plt\n",
    "import seaborn as sns\n",
    "import plotly.express as px"
   ]
  },
  {
   "cell_type": "code",
   "execution_count": 4,
   "outputs": [
    {
     "data": {
      "text/plain": "        Unnamed: 0                                   Name Inspection_Date  \\\n0                0                       #807 TUTTA BELLA      08/31/2022   \n1                1                       #807 TUTTA BELLA      08/31/2022   \n2                2                       #807 TUTTA BELLA      01/13/2022   \n3                3                       #807 TUTTA BELLA      01/06/2021   \n4                4                              +MAS CAFE      07/13/2022   \n...            ...                                    ...             ...   \n249594      250358  ZYLBERSCHTEIN'S DELICATESSEN & BAKERY      11/21/2018   \n249595      250359  ZYLBERSCHTEIN'S DELICATESSEN & BAKERY      05/09/2018   \n249596      250360  ZYLBERSCHTEIN'S DELICATESSEN & BAKERY      11/27/2017   \n249597      250361  ZYLBERSCHTEIN'S DELICATESSEN & BAKERY      09/06/2017   \n249598      250362                             ZZ DESSERT      07/28/2022   \n\n                             Description     City   Longitude   Latitude  \\\n0       Seating 0-12 - Risk Category III  SEATTLE -122.296415  47.662311   \n1       Seating 0-12 - Risk Category III  SEATTLE -122.296415  47.662311   \n2       Seating 0-12 - Risk Category III  SEATTLE -122.296415  47.662311   \n3       Seating 0-12 - Risk Category III  SEATTLE -122.296415  47.662311   \n4       Seating 0-12 - Risk Category III  SEATTLE -122.334587  47.648180   \n...                                  ...      ...         ...        ...   \n249594  Seating 0-12 - Risk Category III  SEATTLE -122.312056  47.715359   \n249595  Seating 0-12 - Risk Category III  SEATTLE -122.312056  47.715359   \n249596  Seating 0-12 - Risk Category III  SEATTLE -122.312056  47.715359   \n249597  Seating 0-12 - Risk Category III  SEATTLE -122.312056  47.715359   \n249598  Seating 0-12 - Risk Category III     KENT -122.220420  47.438930   \n\n                        Inspection_Type  Inspection_Score Inspection_Result  \\\n0       Routine Inspection/Field Review              10.0    Unsatisfactory   \n1       Routine Inspection/Field Review              10.0    Unsatisfactory   \n2       Routine Inspection/Field Review               0.0      Satisfactory   \n3       Routine Inspection/Field Review               0.0      Satisfactory   \n4                     Return Inspection               0.0      Satisfactory   \n...                                 ...               ...               ...   \n249594   Consultation/Education - Field               0.0          Complete   \n249595  Routine Inspection/Field Review               0.0      Satisfactory   \n249596  Routine Inspection/Field Review               0.0      Satisfactory   \n249597   Consultation/Education - Field               0.0          Complete   \n249598  Routine Inspection/Field Review               5.0    Unsatisfactory   \n\n        Inspection_Closed_Business Violation_Type  \\\n0                            False           BLUE   \n1                            False            RED   \n2                            False        No_card   \n3                            False        No_card   \n4                            False        No_card   \n...                            ...            ...   \n249594                       False        No_card   \n249595                       False        No_card   \n249596                       False        No_card   \n249597                       False        No_card   \n249598                       False            RED   \n\n                                    Violation_Description  Violation_Points  \\\n0       3200 - Insects, rodents, animals not present; ...                 5   \n1       0200 - Food Worker Cards current for all food ...                 5   \n2                                            No_violation                 0   \n3                                            No_violation                 0   \n4                                            No_violation                 0   \n...                                                   ...               ...   \n249594                                       No_violation                 0   \n249595                                       No_violation                 0   \n249596                                       No_violation                 0   \n249597                                       No_violation                 0   \n249598  2120 - Proper cold holding temperatures ( 42 d...                 5   \n\n        Grade  \n0         1.0  \n1         1.0  \n2         1.0  \n3         1.0  \n4         2.0  \n...       ...  \n249594    2.0  \n249595    2.0  \n249596    2.0  \n249597    2.0  \n249598    1.0  \n\n[249599 rows x 15 columns]",
      "text/html": "<div>\n<style scoped>\n    .dataframe tbody tr th:only-of-type {\n        vertical-align: middle;\n    }\n\n    .dataframe tbody tr th {\n        vertical-align: top;\n    }\n\n    .dataframe thead th {\n        text-align: right;\n    }\n</style>\n<table border=\"1\" class=\"dataframe\">\n  <thead>\n    <tr style=\"text-align: right;\">\n      <th></th>\n      <th>Unnamed: 0</th>\n      <th>Name</th>\n      <th>Inspection_Date</th>\n      <th>Description</th>\n      <th>City</th>\n      <th>Longitude</th>\n      <th>Latitude</th>\n      <th>Inspection_Type</th>\n      <th>Inspection_Score</th>\n      <th>Inspection_Result</th>\n      <th>Inspection_Closed_Business</th>\n      <th>Violation_Type</th>\n      <th>Violation_Description</th>\n      <th>Violation_Points</th>\n      <th>Grade</th>\n    </tr>\n  </thead>\n  <tbody>\n    <tr>\n      <th>0</th>\n      <td>0</td>\n      <td>#807 TUTTA BELLA</td>\n      <td>08/31/2022</td>\n      <td>Seating 0-12 - Risk Category III</td>\n      <td>SEATTLE</td>\n      <td>-122.296415</td>\n      <td>47.662311</td>\n      <td>Routine Inspection/Field Review</td>\n      <td>10.0</td>\n      <td>Unsatisfactory</td>\n      <td>False</td>\n      <td>BLUE</td>\n      <td>3200 - Insects, rodents, animals not present; ...</td>\n      <td>5</td>\n      <td>1.0</td>\n    </tr>\n    <tr>\n      <th>1</th>\n      <td>1</td>\n      <td>#807 TUTTA BELLA</td>\n      <td>08/31/2022</td>\n      <td>Seating 0-12 - Risk Category III</td>\n      <td>SEATTLE</td>\n      <td>-122.296415</td>\n      <td>47.662311</td>\n      <td>Routine Inspection/Field Review</td>\n      <td>10.0</td>\n      <td>Unsatisfactory</td>\n      <td>False</td>\n      <td>RED</td>\n      <td>0200 - Food Worker Cards current for all food ...</td>\n      <td>5</td>\n      <td>1.0</td>\n    </tr>\n    <tr>\n      <th>2</th>\n      <td>2</td>\n      <td>#807 TUTTA BELLA</td>\n      <td>01/13/2022</td>\n      <td>Seating 0-12 - Risk Category III</td>\n      <td>SEATTLE</td>\n      <td>-122.296415</td>\n      <td>47.662311</td>\n      <td>Routine Inspection/Field Review</td>\n      <td>0.0</td>\n      <td>Satisfactory</td>\n      <td>False</td>\n      <td>No_card</td>\n      <td>No_violation</td>\n      <td>0</td>\n      <td>1.0</td>\n    </tr>\n    <tr>\n      <th>3</th>\n      <td>3</td>\n      <td>#807 TUTTA BELLA</td>\n      <td>01/06/2021</td>\n      <td>Seating 0-12 - Risk Category III</td>\n      <td>SEATTLE</td>\n      <td>-122.296415</td>\n      <td>47.662311</td>\n      <td>Routine Inspection/Field Review</td>\n      <td>0.0</td>\n      <td>Satisfactory</td>\n      <td>False</td>\n      <td>No_card</td>\n      <td>No_violation</td>\n      <td>0</td>\n      <td>1.0</td>\n    </tr>\n    <tr>\n      <th>4</th>\n      <td>4</td>\n      <td>+MAS CAFE</td>\n      <td>07/13/2022</td>\n      <td>Seating 0-12 - Risk Category III</td>\n      <td>SEATTLE</td>\n      <td>-122.334587</td>\n      <td>47.648180</td>\n      <td>Return Inspection</td>\n      <td>0.0</td>\n      <td>Satisfactory</td>\n      <td>False</td>\n      <td>No_card</td>\n      <td>No_violation</td>\n      <td>0</td>\n      <td>2.0</td>\n    </tr>\n    <tr>\n      <th>...</th>\n      <td>...</td>\n      <td>...</td>\n      <td>...</td>\n      <td>...</td>\n      <td>...</td>\n      <td>...</td>\n      <td>...</td>\n      <td>...</td>\n      <td>...</td>\n      <td>...</td>\n      <td>...</td>\n      <td>...</td>\n      <td>...</td>\n      <td>...</td>\n      <td>...</td>\n    </tr>\n    <tr>\n      <th>249594</th>\n      <td>250358</td>\n      <td>ZYLBERSCHTEIN'S DELICATESSEN &amp; BAKERY</td>\n      <td>11/21/2018</td>\n      <td>Seating 0-12 - Risk Category III</td>\n      <td>SEATTLE</td>\n      <td>-122.312056</td>\n      <td>47.715359</td>\n      <td>Consultation/Education - Field</td>\n      <td>0.0</td>\n      <td>Complete</td>\n      <td>False</td>\n      <td>No_card</td>\n      <td>No_violation</td>\n      <td>0</td>\n      <td>2.0</td>\n    </tr>\n    <tr>\n      <th>249595</th>\n      <td>250359</td>\n      <td>ZYLBERSCHTEIN'S DELICATESSEN &amp; BAKERY</td>\n      <td>05/09/2018</td>\n      <td>Seating 0-12 - Risk Category III</td>\n      <td>SEATTLE</td>\n      <td>-122.312056</td>\n      <td>47.715359</td>\n      <td>Routine Inspection/Field Review</td>\n      <td>0.0</td>\n      <td>Satisfactory</td>\n      <td>False</td>\n      <td>No_card</td>\n      <td>No_violation</td>\n      <td>0</td>\n      <td>2.0</td>\n    </tr>\n    <tr>\n      <th>249596</th>\n      <td>250360</td>\n      <td>ZYLBERSCHTEIN'S DELICATESSEN &amp; BAKERY</td>\n      <td>11/27/2017</td>\n      <td>Seating 0-12 - Risk Category III</td>\n      <td>SEATTLE</td>\n      <td>-122.312056</td>\n      <td>47.715359</td>\n      <td>Routine Inspection/Field Review</td>\n      <td>0.0</td>\n      <td>Satisfactory</td>\n      <td>False</td>\n      <td>No_card</td>\n      <td>No_violation</td>\n      <td>0</td>\n      <td>2.0</td>\n    </tr>\n    <tr>\n      <th>249597</th>\n      <td>250361</td>\n      <td>ZYLBERSCHTEIN'S DELICATESSEN &amp; BAKERY</td>\n      <td>09/06/2017</td>\n      <td>Seating 0-12 - Risk Category III</td>\n      <td>SEATTLE</td>\n      <td>-122.312056</td>\n      <td>47.715359</td>\n      <td>Consultation/Education - Field</td>\n      <td>0.0</td>\n      <td>Complete</td>\n      <td>False</td>\n      <td>No_card</td>\n      <td>No_violation</td>\n      <td>0</td>\n      <td>2.0</td>\n    </tr>\n    <tr>\n      <th>249598</th>\n      <td>250362</td>\n      <td>ZZ DESSERT</td>\n      <td>07/28/2022</td>\n      <td>Seating 0-12 - Risk Category III</td>\n      <td>KENT</td>\n      <td>-122.220420</td>\n      <td>47.438930</td>\n      <td>Routine Inspection/Field Review</td>\n      <td>5.0</td>\n      <td>Unsatisfactory</td>\n      <td>False</td>\n      <td>RED</td>\n      <td>2120 - Proper cold holding temperatures ( 42 d...</td>\n      <td>5</td>\n      <td>1.0</td>\n    </tr>\n  </tbody>\n</table>\n<p>249599 rows × 15 columns</p>\n</div>"
     },
     "execution_count": 4,
     "metadata": {},
     "output_type": "execute_result"
    }
   ],
   "source": [
    "clean_df = pd.read_csv(\"Data_cleaning/final_data1.csv\")\n",
    "clean_df"
   ],
   "metadata": {
    "collapsed": false,
    "pycharm": {
     "name": "#%%\n"
    }
   }
  },
  {
   "cell_type": "code",
   "execution_count": 5,
   "outputs": [
    {
     "data": {
      "text/plain": "                                         Name Inspection_Date  \\\n0                            #807 TUTTA BELLA      08/31/2022   \n1                            #807 TUTTA BELLA      08/31/2022   \n2                            #807 TUTTA BELLA      01/13/2022   \n3                            #807 TUTTA BELLA      01/06/2021   \n4                                   +MAS CAFE      07/13/2022   \n...                                       ...             ...   \n249594  ZYLBERSCHTEIN'S DELICATESSEN & BAKERY      11/21/2018   \n249595  ZYLBERSCHTEIN'S DELICATESSEN & BAKERY      05/09/2018   \n249596  ZYLBERSCHTEIN'S DELICATESSEN & BAKERY      11/27/2017   \n249597  ZYLBERSCHTEIN'S DELICATESSEN & BAKERY      09/06/2017   \n249598                             ZZ DESSERT      07/28/2022   \n\n                             Description     City   Longitude   Latitude  \\\n0       Seating 0-12 - Risk Category III  SEATTLE -122.296415  47.662311   \n1       Seating 0-12 - Risk Category III  SEATTLE -122.296415  47.662311   \n2       Seating 0-12 - Risk Category III  SEATTLE -122.296415  47.662311   \n3       Seating 0-12 - Risk Category III  SEATTLE -122.296415  47.662311   \n4       Seating 0-12 - Risk Category III  SEATTLE -122.334587  47.648180   \n...                                  ...      ...         ...        ...   \n249594  Seating 0-12 - Risk Category III  SEATTLE -122.312056  47.715359   \n249595  Seating 0-12 - Risk Category III  SEATTLE -122.312056  47.715359   \n249596  Seating 0-12 - Risk Category III  SEATTLE -122.312056  47.715359   \n249597  Seating 0-12 - Risk Category III  SEATTLE -122.312056  47.715359   \n249598  Seating 0-12 - Risk Category III     KENT -122.220420  47.438930   \n\n                        Inspection_Type  Inspection_Score Inspection_Result  \\\n0       Routine Inspection/Field Review              10.0    Unsatisfactory   \n1       Routine Inspection/Field Review              10.0    Unsatisfactory   \n2       Routine Inspection/Field Review               0.0      Satisfactory   \n3       Routine Inspection/Field Review               0.0      Satisfactory   \n4                     Return Inspection               0.0      Satisfactory   \n...                                 ...               ...               ...   \n249594   Consultation/Education - Field               0.0          Complete   \n249595  Routine Inspection/Field Review               0.0      Satisfactory   \n249596  Routine Inspection/Field Review               0.0      Satisfactory   \n249597   Consultation/Education - Field               0.0          Complete   \n249598  Routine Inspection/Field Review               5.0    Unsatisfactory   \n\n        Inspection_Closed_Business Violation_Type  \\\n0                            False           BLUE   \n1                            False            RED   \n2                            False        No_card   \n3                            False        No_card   \n4                            False        No_card   \n...                            ...            ...   \n249594                       False        No_card   \n249595                       False        No_card   \n249596                       False        No_card   \n249597                       False        No_card   \n249598                       False            RED   \n\n                                    Violation_Description  Violation_Points  \\\n0       3200 - Insects, rodents, animals not present; ...                 5   \n1       0200 - Food Worker Cards current for all food ...                 5   \n2                                            No_violation                 0   \n3                                            No_violation                 0   \n4                                            No_violation                 0   \n...                                                   ...               ...   \n249594                                       No_violation                 0   \n249595                                       No_violation                 0   \n249596                                       No_violation                 0   \n249597                                       No_violation                 0   \n249598  2120 - Proper cold holding temperatures ( 42 d...                 5   \n\n        Grade  \n0         1.0  \n1         1.0  \n2         1.0  \n3         1.0  \n4         2.0  \n...       ...  \n249594    2.0  \n249595    2.0  \n249596    2.0  \n249597    2.0  \n249598    1.0  \n\n[249599 rows x 14 columns]",
      "text/html": "<div>\n<style scoped>\n    .dataframe tbody tr th:only-of-type {\n        vertical-align: middle;\n    }\n\n    .dataframe tbody tr th {\n        vertical-align: top;\n    }\n\n    .dataframe thead th {\n        text-align: right;\n    }\n</style>\n<table border=\"1\" class=\"dataframe\">\n  <thead>\n    <tr style=\"text-align: right;\">\n      <th></th>\n      <th>Name</th>\n      <th>Inspection_Date</th>\n      <th>Description</th>\n      <th>City</th>\n      <th>Longitude</th>\n      <th>Latitude</th>\n      <th>Inspection_Type</th>\n      <th>Inspection_Score</th>\n      <th>Inspection_Result</th>\n      <th>Inspection_Closed_Business</th>\n      <th>Violation_Type</th>\n      <th>Violation_Description</th>\n      <th>Violation_Points</th>\n      <th>Grade</th>\n    </tr>\n  </thead>\n  <tbody>\n    <tr>\n      <th>0</th>\n      <td>#807 TUTTA BELLA</td>\n      <td>08/31/2022</td>\n      <td>Seating 0-12 - Risk Category III</td>\n      <td>SEATTLE</td>\n      <td>-122.296415</td>\n      <td>47.662311</td>\n      <td>Routine Inspection/Field Review</td>\n      <td>10.0</td>\n      <td>Unsatisfactory</td>\n      <td>False</td>\n      <td>BLUE</td>\n      <td>3200 - Insects, rodents, animals not present; ...</td>\n      <td>5</td>\n      <td>1.0</td>\n    </tr>\n    <tr>\n      <th>1</th>\n      <td>#807 TUTTA BELLA</td>\n      <td>08/31/2022</td>\n      <td>Seating 0-12 - Risk Category III</td>\n      <td>SEATTLE</td>\n      <td>-122.296415</td>\n      <td>47.662311</td>\n      <td>Routine Inspection/Field Review</td>\n      <td>10.0</td>\n      <td>Unsatisfactory</td>\n      <td>False</td>\n      <td>RED</td>\n      <td>0200 - Food Worker Cards current for all food ...</td>\n      <td>5</td>\n      <td>1.0</td>\n    </tr>\n    <tr>\n      <th>2</th>\n      <td>#807 TUTTA BELLA</td>\n      <td>01/13/2022</td>\n      <td>Seating 0-12 - Risk Category III</td>\n      <td>SEATTLE</td>\n      <td>-122.296415</td>\n      <td>47.662311</td>\n      <td>Routine Inspection/Field Review</td>\n      <td>0.0</td>\n      <td>Satisfactory</td>\n      <td>False</td>\n      <td>No_card</td>\n      <td>No_violation</td>\n      <td>0</td>\n      <td>1.0</td>\n    </tr>\n    <tr>\n      <th>3</th>\n      <td>#807 TUTTA BELLA</td>\n      <td>01/06/2021</td>\n      <td>Seating 0-12 - Risk Category III</td>\n      <td>SEATTLE</td>\n      <td>-122.296415</td>\n      <td>47.662311</td>\n      <td>Routine Inspection/Field Review</td>\n      <td>0.0</td>\n      <td>Satisfactory</td>\n      <td>False</td>\n      <td>No_card</td>\n      <td>No_violation</td>\n      <td>0</td>\n      <td>1.0</td>\n    </tr>\n    <tr>\n      <th>4</th>\n      <td>+MAS CAFE</td>\n      <td>07/13/2022</td>\n      <td>Seating 0-12 - Risk Category III</td>\n      <td>SEATTLE</td>\n      <td>-122.334587</td>\n      <td>47.648180</td>\n      <td>Return Inspection</td>\n      <td>0.0</td>\n      <td>Satisfactory</td>\n      <td>False</td>\n      <td>No_card</td>\n      <td>No_violation</td>\n      <td>0</td>\n      <td>2.0</td>\n    </tr>\n    <tr>\n      <th>...</th>\n      <td>...</td>\n      <td>...</td>\n      <td>...</td>\n      <td>...</td>\n      <td>...</td>\n      <td>...</td>\n      <td>...</td>\n      <td>...</td>\n      <td>...</td>\n      <td>...</td>\n      <td>...</td>\n      <td>...</td>\n      <td>...</td>\n      <td>...</td>\n    </tr>\n    <tr>\n      <th>249594</th>\n      <td>ZYLBERSCHTEIN'S DELICATESSEN &amp; BAKERY</td>\n      <td>11/21/2018</td>\n      <td>Seating 0-12 - Risk Category III</td>\n      <td>SEATTLE</td>\n      <td>-122.312056</td>\n      <td>47.715359</td>\n      <td>Consultation/Education - Field</td>\n      <td>0.0</td>\n      <td>Complete</td>\n      <td>False</td>\n      <td>No_card</td>\n      <td>No_violation</td>\n      <td>0</td>\n      <td>2.0</td>\n    </tr>\n    <tr>\n      <th>249595</th>\n      <td>ZYLBERSCHTEIN'S DELICATESSEN &amp; BAKERY</td>\n      <td>05/09/2018</td>\n      <td>Seating 0-12 - Risk Category III</td>\n      <td>SEATTLE</td>\n      <td>-122.312056</td>\n      <td>47.715359</td>\n      <td>Routine Inspection/Field Review</td>\n      <td>0.0</td>\n      <td>Satisfactory</td>\n      <td>False</td>\n      <td>No_card</td>\n      <td>No_violation</td>\n      <td>0</td>\n      <td>2.0</td>\n    </tr>\n    <tr>\n      <th>249596</th>\n      <td>ZYLBERSCHTEIN'S DELICATESSEN &amp; BAKERY</td>\n      <td>11/27/2017</td>\n      <td>Seating 0-12 - Risk Category III</td>\n      <td>SEATTLE</td>\n      <td>-122.312056</td>\n      <td>47.715359</td>\n      <td>Routine Inspection/Field Review</td>\n      <td>0.0</td>\n      <td>Satisfactory</td>\n      <td>False</td>\n      <td>No_card</td>\n      <td>No_violation</td>\n      <td>0</td>\n      <td>2.0</td>\n    </tr>\n    <tr>\n      <th>249597</th>\n      <td>ZYLBERSCHTEIN'S DELICATESSEN &amp; BAKERY</td>\n      <td>09/06/2017</td>\n      <td>Seating 0-12 - Risk Category III</td>\n      <td>SEATTLE</td>\n      <td>-122.312056</td>\n      <td>47.715359</td>\n      <td>Consultation/Education - Field</td>\n      <td>0.0</td>\n      <td>Complete</td>\n      <td>False</td>\n      <td>No_card</td>\n      <td>No_violation</td>\n      <td>0</td>\n      <td>2.0</td>\n    </tr>\n    <tr>\n      <th>249598</th>\n      <td>ZZ DESSERT</td>\n      <td>07/28/2022</td>\n      <td>Seating 0-12 - Risk Category III</td>\n      <td>KENT</td>\n      <td>-122.220420</td>\n      <td>47.438930</td>\n      <td>Routine Inspection/Field Review</td>\n      <td>5.0</td>\n      <td>Unsatisfactory</td>\n      <td>False</td>\n      <td>RED</td>\n      <td>2120 - Proper cold holding temperatures ( 42 d...</td>\n      <td>5</td>\n      <td>1.0</td>\n    </tr>\n  </tbody>\n</table>\n<p>249599 rows × 14 columns</p>\n</div>"
     },
     "execution_count": 5,
     "metadata": {},
     "output_type": "execute_result"
    }
   ],
   "source": [
    "del(clean_df[\"Unnamed: 0\"])\n",
    "clean_df"
   ],
   "metadata": {
    "collapsed": false,
    "pycharm": {
     "name": "#%%\n"
    }
   }
  },
  {
   "cell_type": "code",
   "execution_count": 4,
   "outputs": [],
   "source": [],
   "metadata": {
    "collapsed": false,
    "pycharm": {
     "name": "#%%\n"
    }
   }
  },
  {
   "cell_type": "code",
   "execution_count": 4,
   "outputs": [],
   "source": [],
   "metadata": {
    "collapsed": false,
    "pycharm": {
     "name": "#%%\n"
    }
   }
  },
  {
   "cell_type": "code",
   "execution_count": 4,
   "outputs": [],
   "source": [],
   "metadata": {
    "collapsed": false,
    "pycharm": {
     "name": "#%%\n"
    }
   }
  },
  {
   "cell_type": "code",
   "execution_count": 4,
   "outputs": [],
   "source": [],
   "metadata": {
    "collapsed": false,
    "pycharm": {
     "name": "#%%\n"
    }
   }
  },
  {
   "cell_type": "code",
   "execution_count": 4,
   "outputs": [],
   "source": [],
   "metadata": {
    "collapsed": false,
    "pycharm": {
     "name": "#%%\n"
    }
   }
  },
  {
   "cell_type": "code",
   "execution_count": 4,
   "outputs": [],
   "source": [],
   "metadata": {
    "collapsed": false,
    "pycharm": {
     "name": "#%%\n"
    }
   }
  },
  {
   "cell_type": "code",
   "execution_count": 4,
   "outputs": [],
   "source": [],
   "metadata": {
    "collapsed": false,
    "pycharm": {
     "name": "#%%\n"
    }
   }
  }
 ],
 "metadata": {
  "kernelspec": {
   "display_name": "Python 3",
   "language": "python",
   "name": "python3"
  },
  "language_info": {
   "codemirror_mode": {
    "name": "ipython",
    "version": 2
   },
   "file_extension": ".py",
   "mimetype": "text/x-python",
   "name": "python",
   "nbconvert_exporter": "python",
   "pygments_lexer": "ipython2",
   "version": "2.7.6"
  }
 },
 "nbformat": 4,
 "nbformat_minor": 0
}