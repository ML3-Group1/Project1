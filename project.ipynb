{
  "cells": [
    {
      "cell_type": "code",
      "source": [
        "import matplotlib.pyplot as plt\n",
        "import seaborn as sns"
      ],
      "metadata": {
        "id": "2kTZz1KztoB9"
      },
      "execution_count": 3,
      "outputs": []
    },
    {
      "cell_type": "code",
      "source": [
        "import numpy as np\n",
        "import pandas as pd\n",
        "\n",
        "df = pd.read_csv('Clean_Data.txt')\n",
        "df.head()"
      ],
      "metadata": {
        "colab": {
          "base_uri": "https://localhost:8080/",
          "height": 461
        },
        "id": "XLDjrgfitT2t",
        "outputId": "ad67b3b7-2d4d-4fbd-a6db-10e79b72c763"
      },
      "execution_count": 8,
      "outputs": [
        {
          "output_type": "execute_result",
          "data": {
            "text/plain": [
              "   Unnamed: 0              Name Inspection_Date  \\\n",
              "0           0  #807 TUTTA BELLA      2022-08-31   \n",
              "1           1  #807 TUTTA BELLA      2022-08-31   \n",
              "2           2  #807 TUTTA BELLA      2022-01-13   \n",
              "3           3  #807 TUTTA BELLA      2021-01-06   \n",
              "4           4         +MAS CAFE      2022-07-13   \n",
              "\n",
              "                        Description     City   Longitude   Latitude  \\\n",
              "0  Seating 0-12 - Risk Category III  SEATTLE -122.296415  47.662311   \n",
              "1  Seating 0-12 - Risk Category III  SEATTLE -122.296415  47.662311   \n",
              "2  Seating 0-12 - Risk Category III  SEATTLE -122.296415  47.662311   \n",
              "3  Seating 0-12 - Risk Category III  SEATTLE -122.296415  47.662311   \n",
              "4  Seating 0-12 - Risk Category III  SEATTLE -122.334587  47.648180   \n",
              "\n",
              "                   Inspection_Type  Inspection_Score Inspection_Result  \\\n",
              "0  Routine Inspection/Field Review              10.0    Unsatisfactory   \n",
              "1  Routine Inspection/Field Review              10.0    Unsatisfactory   \n",
              "2  Routine Inspection/Field Review               0.0      Satisfactory   \n",
              "3  Routine Inspection/Field Review               0.0      Satisfactory   \n",
              "4                Return Inspection               0.0      Satisfactory   \n",
              "\n",
              "   Inspection_Closed_Business Violation_Type  \\\n",
              "0                       False           BLUE   \n",
              "1                       False            RED   \n",
              "2                       False          Green   \n",
              "3                       False          Green   \n",
              "4                       False          Green   \n",
              "\n",
              "                               Violation_Description  Violation_Points  \\\n",
              "0  3200 - Insects, rodents, animals not present; ...                 5   \n",
              "1  0200 - Food Worker Cards current for all food ...                 5   \n",
              "2                                       No_violation                 0   \n",
              "3                                       No_violation                 0   \n",
              "4                                       No_violation                 0   \n",
              "\n",
              "  Business_ID  Grade  Year  Month day_of_week  Season  \n",
              "0   PR0089260    1.0  2022      8   Wednesday  Summer  \n",
              "1   PR0089260    1.0  2022      8   Wednesday  Summer  \n",
              "2   PR0089260    1.0  2022      1    Thursday  Winter  \n",
              "3   PR0089260    1.0  2021      1   Wednesday  Winter  \n",
              "4   PR0046367    2.0  2022      7   Wednesday  Summer  "
            ],
            "text/html": [
              "\n",
              "  <div id=\"df-bcabb15a-b0ca-4cd1-a3f3-78acd4cae82a\">\n",
              "    <div class=\"colab-df-container\">\n",
              "      <div>\n",
              "<style scoped>\n",
              "    .dataframe tbody tr th:only-of-type {\n",
              "        vertical-align: middle;\n",
              "    }\n",
              "\n",
              "    .dataframe tbody tr th {\n",
              "        vertical-align: top;\n",
              "    }\n",
              "\n",
              "    .dataframe thead th {\n",
              "        text-align: right;\n",
              "    }\n",
              "</style>\n",
              "<table border=\"1\" class=\"dataframe\">\n",
              "  <thead>\n",
              "    <tr style=\"text-align: right;\">\n",
              "      <th></th>\n",
              "      <th>Unnamed: 0</th>\n",
              "      <th>Name</th>\n",
              "      <th>Inspection_Date</th>\n",
              "      <th>Description</th>\n",
              "      <th>City</th>\n",
              "      <th>Longitude</th>\n",
              "      <th>Latitude</th>\n",
              "      <th>Inspection_Type</th>\n",
              "      <th>Inspection_Score</th>\n",
              "      <th>Inspection_Result</th>\n",
              "      <th>Inspection_Closed_Business</th>\n",
              "      <th>Violation_Type</th>\n",
              "      <th>Violation_Description</th>\n",
              "      <th>Violation_Points</th>\n",
              "      <th>Business_ID</th>\n",
              "      <th>Grade</th>\n",
              "      <th>Year</th>\n",
              "      <th>Month</th>\n",
              "      <th>day_of_week</th>\n",
              "      <th>Season</th>\n",
              "    </tr>\n",
              "  </thead>\n",
              "  <tbody>\n",
              "    <tr>\n",
              "      <th>0</th>\n",
              "      <td>0</td>\n",
              "      <td>#807 TUTTA BELLA</td>\n",
              "      <td>2022-08-31</td>\n",
              "      <td>Seating 0-12 - Risk Category III</td>\n",
              "      <td>SEATTLE</td>\n",
              "      <td>-122.296415</td>\n",
              "      <td>47.662311</td>\n",
              "      <td>Routine Inspection/Field Review</td>\n",
              "      <td>10.0</td>\n",
              "      <td>Unsatisfactory</td>\n",
              "      <td>False</td>\n",
              "      <td>BLUE</td>\n",
              "      <td>3200 - Insects, rodents, animals not present; ...</td>\n",
              "      <td>5</td>\n",
              "      <td>PR0089260</td>\n",
              "      <td>1.0</td>\n",
              "      <td>2022</td>\n",
              "      <td>8</td>\n",
              "      <td>Wednesday</td>\n",
              "      <td>Summer</td>\n",
              "    </tr>\n",
              "    <tr>\n",
              "      <th>1</th>\n",
              "      <td>1</td>\n",
              "      <td>#807 TUTTA BELLA</td>\n",
              "      <td>2022-08-31</td>\n",
              "      <td>Seating 0-12 - Risk Category III</td>\n",
              "      <td>SEATTLE</td>\n",
              "      <td>-122.296415</td>\n",
              "      <td>47.662311</td>\n",
              "      <td>Routine Inspection/Field Review</td>\n",
              "      <td>10.0</td>\n",
              "      <td>Unsatisfactory</td>\n",
              "      <td>False</td>\n",
              "      <td>RED</td>\n",
              "      <td>0200 - Food Worker Cards current for all food ...</td>\n",
              "      <td>5</td>\n",
              "      <td>PR0089260</td>\n",
              "      <td>1.0</td>\n",
              "      <td>2022</td>\n",
              "      <td>8</td>\n",
              "      <td>Wednesday</td>\n",
              "      <td>Summer</td>\n",
              "    </tr>\n",
              "    <tr>\n",
              "      <th>2</th>\n",
              "      <td>2</td>\n",
              "      <td>#807 TUTTA BELLA</td>\n",
              "      <td>2022-01-13</td>\n",
              "      <td>Seating 0-12 - Risk Category III</td>\n",
              "      <td>SEATTLE</td>\n",
              "      <td>-122.296415</td>\n",
              "      <td>47.662311</td>\n",
              "      <td>Routine Inspection/Field Review</td>\n",
              "      <td>0.0</td>\n",
              "      <td>Satisfactory</td>\n",
              "      <td>False</td>\n",
              "      <td>Green</td>\n",
              "      <td>No_violation</td>\n",
              "      <td>0</td>\n",
              "      <td>PR0089260</td>\n",
              "      <td>1.0</td>\n",
              "      <td>2022</td>\n",
              "      <td>1</td>\n",
              "      <td>Thursday</td>\n",
              "      <td>Winter</td>\n",
              "    </tr>\n",
              "    <tr>\n",
              "      <th>3</th>\n",
              "      <td>3</td>\n",
              "      <td>#807 TUTTA BELLA</td>\n",
              "      <td>2021-01-06</td>\n",
              "      <td>Seating 0-12 - Risk Category III</td>\n",
              "      <td>SEATTLE</td>\n",
              "      <td>-122.296415</td>\n",
              "      <td>47.662311</td>\n",
              "      <td>Routine Inspection/Field Review</td>\n",
              "      <td>0.0</td>\n",
              "      <td>Satisfactory</td>\n",
              "      <td>False</td>\n",
              "      <td>Green</td>\n",
              "      <td>No_violation</td>\n",
              "      <td>0</td>\n",
              "      <td>PR0089260</td>\n",
              "      <td>1.0</td>\n",
              "      <td>2021</td>\n",
              "      <td>1</td>\n",
              "      <td>Wednesday</td>\n",
              "      <td>Winter</td>\n",
              "    </tr>\n",
              "    <tr>\n",
              "      <th>4</th>\n",
              "      <td>4</td>\n",
              "      <td>+MAS CAFE</td>\n",
              "      <td>2022-07-13</td>\n",
              "      <td>Seating 0-12 - Risk Category III</td>\n",
              "      <td>SEATTLE</td>\n",
              "      <td>-122.334587</td>\n",
              "      <td>47.648180</td>\n",
              "      <td>Return Inspection</td>\n",
              "      <td>0.0</td>\n",
              "      <td>Satisfactory</td>\n",
              "      <td>False</td>\n",
              "      <td>Green</td>\n",
              "      <td>No_violation</td>\n",
              "      <td>0</td>\n",
              "      <td>PR0046367</td>\n",
              "      <td>2.0</td>\n",
              "      <td>2022</td>\n",
              "      <td>7</td>\n",
              "      <td>Wednesday</td>\n",
              "      <td>Summer</td>\n",
              "    </tr>\n",
              "  </tbody>\n",
              "</table>\n",
              "</div>\n",
              "      <button class=\"colab-df-convert\" onclick=\"convertToInteractive('df-bcabb15a-b0ca-4cd1-a3f3-78acd4cae82a')\"\n",
              "              title=\"Convert this dataframe to an interactive table.\"\n",
              "              style=\"display:none;\">\n",
              "        \n",
              "  <svg xmlns=\"http://www.w3.org/2000/svg\" height=\"24px\"viewBox=\"0 0 24 24\"\n",
              "       width=\"24px\">\n",
              "    <path d=\"M0 0h24v24H0V0z\" fill=\"none\"/>\n",
              "    <path d=\"M18.56 5.44l.94 2.06.94-2.06 2.06-.94-2.06-.94-.94-2.06-.94 2.06-2.06.94zm-11 1L8.5 8.5l.94-2.06 2.06-.94-2.06-.94L8.5 2.5l-.94 2.06-2.06.94zm10 10l.94 2.06.94-2.06 2.06-.94-2.06-.94-.94-2.06-.94 2.06-2.06.94z\"/><path d=\"M17.41 7.96l-1.37-1.37c-.4-.4-.92-.59-1.43-.59-.52 0-1.04.2-1.43.59L10.3 9.45l-7.72 7.72c-.78.78-.78 2.05 0 2.83L4 21.41c.39.39.9.59 1.41.59.51 0 1.02-.2 1.41-.59l7.78-7.78 2.81-2.81c.8-.78.8-2.07 0-2.86zM5.41 20L4 18.59l7.72-7.72 1.47 1.35L5.41 20z\"/>\n",
              "  </svg>\n",
              "      </button>\n",
              "      \n",
              "  <style>\n",
              "    .colab-df-container {\n",
              "      display:flex;\n",
              "      flex-wrap:wrap;\n",
              "      gap: 12px;\n",
              "    }\n",
              "\n",
              "    .colab-df-convert {\n",
              "      background-color: #E8F0FE;\n",
              "      border: none;\n",
              "      border-radius: 50%;\n",
              "      cursor: pointer;\n",
              "      display: none;\n",
              "      fill: #1967D2;\n",
              "      height: 32px;\n",
              "      padding: 0 0 0 0;\n",
              "      width: 32px;\n",
              "    }\n",
              "\n",
              "    .colab-df-convert:hover {\n",
              "      background-color: #E2EBFA;\n",
              "      box-shadow: 0px 1px 2px rgba(60, 64, 67, 0.3), 0px 1px 3px 1px rgba(60, 64, 67, 0.15);\n",
              "      fill: #174EA6;\n",
              "    }\n",
              "\n",
              "    [theme=dark] .colab-df-convert {\n",
              "      background-color: #3B4455;\n",
              "      fill: #D2E3FC;\n",
              "    }\n",
              "\n",
              "    [theme=dark] .colab-df-convert:hover {\n",
              "      background-color: #434B5C;\n",
              "      box-shadow: 0px 1px 3px 1px rgba(0, 0, 0, 0.15);\n",
              "      filter: drop-shadow(0px 1px 2px rgba(0, 0, 0, 0.3));\n",
              "      fill: #FFFFFF;\n",
              "    }\n",
              "  </style>\n",
              "\n",
              "      <script>\n",
              "        const buttonEl =\n",
              "          document.querySelector('#df-bcabb15a-b0ca-4cd1-a3f3-78acd4cae82a button.colab-df-convert');\n",
              "        buttonEl.style.display =\n",
              "          google.colab.kernel.accessAllowed ? 'block' : 'none';\n",
              "\n",
              "        async function convertToInteractive(key) {\n",
              "          const element = document.querySelector('#df-bcabb15a-b0ca-4cd1-a3f3-78acd4cae82a');\n",
              "          const dataTable =\n",
              "            await google.colab.kernel.invokeFunction('convertToInteractive',\n",
              "                                                     [key], {});\n",
              "          if (!dataTable) return;\n",
              "\n",
              "          const docLinkHtml = 'Like what you see? Visit the ' +\n",
              "            '<a target=\"_blank\" href=https://colab.research.google.com/notebooks/data_table.ipynb>data table notebook</a>'\n",
              "            + ' to learn more about interactive tables.';\n",
              "          element.innerHTML = '';\n",
              "          dataTable['output_type'] = 'display_data';\n",
              "          await google.colab.output.renderOutput(dataTable, element);\n",
              "          const docLink = document.createElement('div');\n",
              "          docLink.innerHTML = docLinkHtml;\n",
              "          element.appendChild(docLink);\n",
              "        }\n",
              "      </script>\n",
              "    </div>\n",
              "  </div>\n",
              "  "
            ]
          },
          "metadata": {},
          "execution_count": 8
        }
      ]
    },
    {
      "cell_type": "markdown",
      "source": [
        "### تخلف های منحصر بفرد"
      ],
      "metadata": {
        "id": "LYN6Bw0XsIJr"
      }
    },
    {
      "cell_type": "code",
      "source": [
        "unique = df[\"Violation_Description\"].unique()\n",
        "unique"
      ],
      "metadata": {
        "colab": {
          "base_uri": "https://localhost:8080/"
        },
        "id": "Jrnzaxo0yfiW",
        "outputId": "41f2e5a5-30e3-49b3-c12a-02da2cebee72"
      },
      "execution_count": null,
      "outputs": [
        {
          "output_type": "execute_result",
          "data": {
            "text/plain": [
              "array(['3200 - Insects, rodents, animals not present; entrance controlled.',\n",
              "       '0200 - Food Worker Cards current for all food workers; new food workers trained',\n",
              "       'No_violation',\n",
              "       '3400 - Wiping cloths properly used, stored, proper sanitizer',\n",
              "       '4800 - Physical facilities properly installed,...',\n",
              "       '1600 - Proper cooling procedure',\n",
              "       '2110 - Proper cold holding temperatures (greater than  45 degrees F)',\n",
              "       '3300 - Potential food contamination prevented during delivery,  preparation, storage, display',\n",
              "       '0600 - Adequate handwashing facilities',\n",
              "       '2300 - Proper Consumer Advisory posted for raw ...',\n",
              "       '2120 - Proper cold holding temperatures ( 42 degrees F to 45 degrees F)',\n",
              "       '4100 - Warewashing facilities properly installed,...',\n",
              "       '4200 - Food-contact surfaces maintained, clean, sanitized',\n",
              "       '0500 - Proper barriers used to prevent bare hand contact with ready to eat foods.',\n",
              "       '1900 - No room temperature storage; proper use of time...',\n",
              "       '0400 - Hands washed as required',\n",
              "       '1720 - Proper hot holding temperatures; between 130 degrees F to 134 degrees F',\n",
              "       '3800 - Utensils, equipment, linens properly stored,...',\n",
              "       '2800 - Food received at proper temperature',\n",
              "       '1710 - Proper hot holding temperatures (less than130 degrees)',\n",
              "       '4300 - Non-food contact surfaces maintained and clean',\n",
              "       '0900 - Proper washing of fruits and vegetables',\n",
              "       '3700 - In-use utensils properly stored',\n",
              "       '4400 - Plumbing properly sized, installed,...',\n",
              "       '2000 - Proper reheating procedures for hot holding',\n",
              "       '4000 - Food and non-food surfaces properly used and...',\n",
              "       '3100 - Proper labeling, signage',\n",
              "       '1500 - Proper handling of pooled eggs',\n",
              "       '3200 - Insects, rodents, animals not present; entrance...',\n",
              "       '2900 - Adequate equipment for temperature control',\n",
              "       '3300 - Potential food contamination prevented during ...',\n",
              "       '0100 - PIC certified by accredited program...',\n",
              "       'Warewashing facilities properly installed,...',\n",
              "       'Wiping cloths properly used, stored',\n",
              "       'Proper cold holding temperatures (greater than  45 degrees F)',\n",
              "       'Potential food contamination prevented during ...',\n",
              "       'Proper cooling procedure',\n",
              "       'Proper cold holding temperatures ( 42 degrees F to 45 degrees F)',\n",
              "       'Proper hot holding temperatures; between 130 degrees F...',\n",
              "       'Food-contact surfaces maintained, clean, sanitized',\n",
              "       'Proper eating, tasting, drinking, or tobacco use',\n",
              "       'Proper handling of pooled eggs',\n",
              "       'Adequate equipment for temperature control',\n",
              "       'Accurate thermometer provided and used ...',\n",
              "       '1400 - Raw meats below and away from ready to eat food; species separated',\n",
              "       '3000 - Proper thawing methods used',\n",
              "       '2500 - Toxic substances properly identified,...',\n",
              "       '1200 - Proper shellstock ID; wild mushroom ID;  parasite destruction procedures for fish',\n",
              "       '4100 - Warewashing facilities properly installed, maintained, used;',\n",
              "       '4900 - Adequate ventilation; lighting; designated area...',\n",
              "       '0200 - Food Worker Cards current for all food...',\n",
              "       '1400 - Raw meats below and away from RTE food',\n",
              "       'Adequate handwashing facilities',\n",
              "       '2200 - Accurate thermometer provided and used ...',\n",
              "       '3400 - Wiping cloths properly used, stored',\n",
              "       'Raw meats below and away from RTE food',\n",
              "       '3600 - Proper eating, tasting, drinking, or tobacco use',\n",
              "       '1710 - Proper hot holding temperatures (less than 130 degrees F )',\n",
              "       '1000 - Food in good condition, safe and unadulterat...',\n",
              "       'Food in good condition, safe and unadulterat...',\n",
              "       'Food Worker Cards current for all food...',\n",
              "       '2700 - Variance obtained for specialized processing ...',\n",
              "       '1400 - Raw meats below and away from ready to eat food; species separarted',\n",
              "       '1720 - Proper hot holding temperatures; between 130 degrees F...',\n",
              "       'In-use utensils properly stored',\n",
              "       '2600 - Compliance with risk control plans, variances, plan of operation; valid permit; appr procedur',\n",
              "       '3500 - Employee cleanliness and hygiene',\n",
              "       '5000 - Posting of permit; mobile establishment name...',\n",
              "       '3400 - Wiping cloths properly used, stored, sanitizer concentration',\n",
              "       '2200 - Accurate thermometer provided and used to evaluate temperature of TCS foods',\n",
              "       'Garbage, refuse properly disposed; facilities...',\n",
              "       'Proper hot holding temperatures (less than 130 degrees F )',\n",
              "       '4700 - Garbage, refuse properly disposed; facilities...',\n",
              "       '0100 - PIC certified by accredited program or compliance with code, or correct answers',\n",
              "       '1100 - Proper disposition of returned, previously served, unsafe, or contaminated food',\n",
              "       'Toilet facilities properly constructed, supplil...',\n",
              "       '3900 - Single use and single service articles properly...',\n",
              "       'Hands washed as required',\n",
              "       'PIC certified by accredited program...',\n",
              "       '1000 - Food in good condition, safe and unadulterated; approved additives',\n",
              "       'Proper reheating procedures for hot holding',\n",
              "       'Single use and single service articles properly...',\n",
              "       '4600 - Toilet facilities properly constructed, supplil...',\n",
              "       '4600 - Toilet facilities properly constructed, supplied, cleaned',\n",
              "       'Physical facilities properly installed,...',\n",
              "       'Adequate ventilation; lighting; designated area...',\n",
              "       'Non-food contact surfaces maintained and clean',\n",
              "       'Toxic substances properly identified,...',\n",
              "       '2500 - Toxic substances properly identified, stored, used',\n",
              "       'Food and non-food surfaces properly used and...',\n",
              "       'Posting of permit; mobile establishment name...',\n",
              "       'Plumbing properly sized, installed,...',\n",
              "       '1800 - Proper cooking time and temperature; proper use of non-continuous cooking',\n",
              "       '0700 - Food obtained from approved source',\n",
              "       'Proper thawing methods used',\n",
              "       '1400 - Raw meats below and away from ready-to-eat food; species separated',\n",
              "       '1300 - Food contact surfaces and utensils used for raw meat thoroughly cleaned and sanitized.  no ..',\n",
              "       '1300 - Food contact surfaces used for raw meat...',\n",
              "       '1800 - Proper cooking time and temperature',\n",
              "       'Sewage, waste water properly disposed',\n",
              "       'Insects, rodents, animals not present; entrance...',\n",
              "       'Proper labeling, signage',\n",
              "       'No room temperature storage; proper use of time...',\n",
              "       'Proper shellfish identification; proper parasit...',\n",
              "       '3800 - Utensils, equipment, linens properly stored, used, handled',\n",
              "       '0500 - Proper methods used to prevent bare hand...',\n",
              "       '2600 - Compliance with risk control plans, variances,...',\n",
              "       'Proper Consumer Advisory posted for raw ...',\n",
              "       '1200 - Proper shellfish identification; proper parasit...',\n",
              "       '2700 - Compliance with variance; specialized processes; HACCP plan',\n",
              "       'Compliance with risk control plans, variances,...',\n",
              "       '0800 - Water supply, ice from approved source',\n",
              "       '2300 - Proper consumer advisory posted for raw or undercooked foods',\n",
              "       '0100 - PIC present, demonstrates knowledge and performs duties to maintain AMC; certified manager on',\n",
              "       'Utensils, equipment, linens properly stored,...',\n",
              "       '4500 - Sewage, waste water properly disposed',\n",
              "       'Proper methods used to prevent bare hand...',\n",
              "       '2600 - Compliance with valid permit; operating and risk control plans and required written procedure',\n",
              "       '2400 - Pasteurized foods used as required; prohibited foods not offered',\n",
              "       '1500 - Proper preparation of raw shell eggs',\n",
              "       '1900 - No room temperature storage; proper use of time as a control',\n",
              "       'Water supply, ice from approved source',\n",
              "       'Proper washing of fruits and vegetables',\n",
              "       'Employee cleanliness and hygiene',\n",
              "       '4000 - Food and non-food surfaces properly used and constructed; cleanable',\n",
              "       '3100 - Food properly labeled; proper date marking',\n",
              "       '0300 - Proper ill worker and conditional employee practices; no ill workers...',\n",
              "       'Food obtained from approved source',\n",
              "       '1300 - Food contact surfaces cleaned and sanitized; no cross contamination',\n",
              "       'Proper disposition of returned,  served...',\n",
              "       '4900 - Adequate ventilation; lighting; designated areas used',\n",
              "       nan], dtype=object)"
            ]
          },
          "metadata": {},
          "execution_count": 10
        }
      ]
    },
    {
      "cell_type": "markdown",
      "source": [
        "### تعداد کارت های دریافتی برای هر نخلف"
      ],
      "metadata": {
        "id": "jXehoImPqGh2"
      }
    },
    {
      "cell_type": "code",
      "source": [
        "CrosstabResult=pd.crosstab(index=df['Violation_Description'],columns=df['Violation_Type'])\n",
        "print(CrosstabResult)"
      ],
      "metadata": {
        "colab": {
          "base_uri": "https://localhost:8080/"
        },
        "id": "rzJ2x_1lthYO",
        "outputId": "03364713-04d2-45bd-966e-d0d0a88cd593"
      },
      "execution_count": null,
      "outputs": [
        {
          "output_type": "stream",
          "name": "stdout",
          "text": [
            "Violation_Type                                      BLUE  Green  RED\n",
            "Violation_Description                                               \n",
            "0100 - PIC certified by accredited program or c...     0      0   46\n",
            "0100 - PIC certified by accredited program...          0      0   16\n",
            "0100 - PIC present, demonstrates knowledge and ...     0      0    1\n",
            "0200 - Food Worker Cards current for all food w...     0      0  708\n",
            "0200 - Food Worker Cards current for all food...       2      0  297\n",
            "...                                                  ...    ...  ...\n",
            "Toxic substances properly identified,...               0      0   27\n",
            "Utensils, equipment, linens properly stored,...       12      0    0\n",
            "Warewashing facilities properly installed,...         88      0    0\n",
            "Water supply, ice from approved source                 0      0    6\n",
            "Wiping cloths properly used, stored                  159      0    0\n",
            "\n",
            "[131 rows x 3 columns]\n"
          ]
        }
      ]
    },
    {
      "cell_type": "markdown",
      "source": [
        "### تعداد تخلف های انجام شده در سال های مختلف"
      ],
      "metadata": {
        "id": "l0E8FAfxDqdW"
      }
    },
    {
      "cell_type": "code",
      "source": [
        "CrosstabResult=pd.crosstab(index=df['Violation_Description'],columns=df['Year'])\n",
        "print(CrosstabResult)"
      ],
      "metadata": {
        "colab": {
          "base_uri": "https://localhost:8080/"
        },
        "id": "4ESy0B44DlYe",
        "outputId": "465218c7-6e8e-41bd-c58d-14df15199c1d"
      },
      "execution_count": 34,
      "outputs": [
        {
          "output_type": "stream",
          "name": "stdout",
          "text": [
            "Year                                                2006  2007  2008  2009  \\\n",
            "Violation_Description                                                        \n",
            "0100 - PIC certified by accredited program or c...     0     0     0     0   \n",
            "0100 - PIC certified by accredited program...          0     0     0    18   \n",
            "0100 - PIC certified by accredited programor co...     0     0     0     0   \n",
            "0100 - PIC present, demonstrates knowledge and ...     0     0     0     0   \n",
            "0200 - Food Worker Cards current for all food w...     0     0     0     0   \n",
            "...                                                  ...   ...   ...   ...   \n",
            "Utensils, equipment, linens properly stored,...       34    22    28     0   \n",
            "Variance obtained for specialized processing ...       0     2     2     0   \n",
            "Warewashing facilities properly installed,...        322   327   244     0   \n",
            "Water supply, ice from approved source                 2     5     5     0   \n",
            "Wiping cloths properly used, stored                  397   435   383     0   \n",
            "\n",
            "Year                                                2010  2011  2012  2013  \\\n",
            "Violation_Description                                                        \n",
            "0100 - PIC certified by accredited program or c...     0     0     0     8   \n",
            "0100 - PIC certified by accredited program...         19    12     9     6   \n",
            "0100 - PIC certified by accredited programor co...     0     0     0     1   \n",
            "0100 - PIC present, demonstrates knowledge and ...     0     0     0     0   \n",
            "0200 - Food Worker Cards current for all food w...     0     0     0   327   \n",
            "...                                                  ...   ...   ...   ...   \n",
            "Utensils, equipment, linens properly stored,...        0     0     0     0   \n",
            "Variance obtained for specialized processing ...       0     0     0     0   \n",
            "Warewashing facilities properly installed,...          0     0     0     0   \n",
            "Water supply, ice from approved source                 0     0     0     0   \n",
            "Wiping cloths properly used, stored                    0     0     0     0   \n",
            "\n",
            "Year                                                2014  2015  2016  2017  \\\n",
            "Violation_Description                                                        \n",
            "0100 - PIC certified by accredited program or c...    37    26    36    30   \n",
            "0100 - PIC certified by accredited program...          0     0     0     0   \n",
            "0100 - PIC certified by accredited programor co...     0     0     0     0   \n",
            "0100 - PIC present, demonstrates knowledge and ...     0     0     0     0   \n",
            "0200 - Food Worker Cards current for all food w...   741   560   619   477   \n",
            "...                                                  ...   ...   ...   ...   \n",
            "Utensils, equipment, linens properly stored,...        0     0     0     0   \n",
            "Variance obtained for specialized processing ...       0     0     0     0   \n",
            "Warewashing facilities properly installed,...          0     0     0     0   \n",
            "Water supply, ice from approved source                 0     0     0     0   \n",
            "Wiping cloths properly used, stored                    0     0     0     0   \n",
            "\n",
            "Year                                                2018  2019  2020  2021  \\\n",
            "Violation_Description                                                        \n",
            "0100 - PIC certified by accredited program or c...    23    34    20    35   \n",
            "0100 - PIC certified by accredited program...          0     0     0     0   \n",
            "0100 - PIC certified by accredited programor co...     0     0     0     0   \n",
            "0100 - PIC present, demonstrates knowledge and ...     0     0     0     0   \n",
            "0200 - Food Worker Cards current for all food w...   467   558   241   300   \n",
            "...                                                  ...   ...   ...   ...   \n",
            "Utensils, equipment, linens properly stored,...        0     0     0     0   \n",
            "Variance obtained for specialized processing ...       0     0     0     0   \n",
            "Warewashing facilities properly installed,...          0     0     0     0   \n",
            "Water supply, ice from approved source                 0     0     0     0   \n",
            "Wiping cloths properly used, stored                    0     0     0     0   \n",
            "\n",
            "Year                                                2022  \n",
            "Violation_Description                                     \n",
            "0100 - PIC certified by accredited program or c...    77  \n",
            "0100 - PIC certified by accredited program...          0  \n",
            "0100 - PIC certified by accredited programor co...     0  \n",
            "0100 - PIC present, demonstrates knowledge and ...    17  \n",
            "0200 - Food Worker Cards current for all food w...   571  \n",
            "...                                                  ...  \n",
            "Utensils, equipment, linens properly stored,...        0  \n",
            "Variance obtained for specialized processing ...       0  \n",
            "Warewashing facilities properly installed,...          0  \n",
            "Water supply, ice from approved source                 0  \n",
            "Wiping cloths properly used, stored                    0  \n",
            "\n",
            "[147 rows x 17 columns]\n"
          ]
        }
      ]
    },
    {
      "cell_type": "markdown",
      "source": [
        "### تعداد تخلف های انجام شده در ماه های مختلف"
      ],
      "metadata": {
        "id": "SOmQMBTJqvQi"
      }
    },
    {
      "cell_type": "code",
      "source": [
        "CrosstabResult=pd.crosstab(index=df['Violation_Description'],columns=df['Month'])\n",
        "print(CrosstabResult)"
      ],
      "metadata": {
        "colab": {
          "base_uri": "https://localhost:8080/"
        },
        "id": "3JC_ZTyOn2yQ",
        "outputId": "dab900e4-16df-4158-f94d-078d450ec6c1"
      },
      "execution_count": 21,
      "outputs": [
        {
          "output_type": "stream",
          "name": "stdout",
          "text": [
            "Month                                                1    2    3    4    5   \\\n",
            "Violation_Description                                                         \n",
            "0100 - PIC certified by accredited program or c...   31   18   37   28   34   \n",
            "0100 - PIC certified by accredited program...         5    8    4    6    1   \n",
            "0100 - PIC certified by accredited programor co...    0    0    0    0    1   \n",
            "0100 - PIC present, demonstrates knowledge and ...    0    0    0    0    0   \n",
            "0200 - Food Worker Cards current for all food w...  568  508  477  402  477   \n",
            "...                                                 ...  ...  ...  ...  ...   \n",
            "Utensils, equipment, linens properly stored,...       8   11    7    8    3   \n",
            "Variance obtained for specialized processing ...      1    0    2    0    0   \n",
            "Warewashing facilities properly installed,...       108  100   99   76   59   \n",
            "Water supply, ice from approved source                2    0    2    2    1   \n",
            "Wiping cloths properly used, stored                 144  151  178  132   74   \n",
            "\n",
            "Month                                                6    7    8    9    10  \\\n",
            "Violation_Description                                                         \n",
            "0100 - PIC certified by accredited program or c...   27    9   29   35   30   \n",
            "0100 - PIC certified by accredited program...         1    1    3   11    9   \n",
            "0100 - PIC certified by accredited programor co...    0    0    0    0    0   \n",
            "0100 - PIC present, demonstrates knowledge and ...    0    0    0    0   13   \n",
            "0200 - Food Worker Cards current for all food w...  315  243  313  402  473   \n",
            "...                                                 ...  ...  ...  ...  ...   \n",
            "Utensils, equipment, linens properly stored,...       5    5    6    7   10   \n",
            "Variance obtained for specialized processing ...      1    0    0    0    0   \n",
            "Warewashing facilities properly installed,...        36   34   43   68  102   \n",
            "Water supply, ice from approved source                0    0    0    0    2   \n",
            "Wiping cloths properly used, stored                  64   47   53  101  130   \n",
            "\n",
            "Month                                                11   12  \n",
            "Violation_Description                                         \n",
            "0100 - PIC certified by accredited program or c...   22   26  \n",
            "0100 - PIC certified by accredited program...         8    7  \n",
            "0100 - PIC certified by accredited programor co...    0    0  \n",
            "0100 - PIC present, demonstrates knowledge and ...    4    0  \n",
            "0200 - Food Worker Cards current for all food w...  371  312  \n",
            "...                                                 ...  ...  \n",
            "Utensils, equipment, linens properly stored,...       7    7  \n",
            "Variance obtained for specialized processing ...      0    0  \n",
            "Warewashing facilities properly installed,...        89   79  \n",
            "Water supply, ice from approved source                2    1  \n",
            "Wiping cloths properly used, stored                  77   64  \n",
            "\n",
            "[147 rows x 12 columns]\n"
          ]
        }
      ]
    },
    {
      "cell_type": "markdown",
      "source": [
        "### تعداد تخلف های انجام شده در فصل های سال"
      ],
      "metadata": {
        "id": "9HMhULr8D8co"
      }
    },
    {
      "cell_type": "code",
      "source": [
        "CrosstabResult=pd.crosstab(index=df['Violation_Description'],columns=df['Season'])\n",
        "print(CrosstabResult)"
      ],
      "metadata": {
        "colab": {
          "base_uri": "https://localhost:8080/"
        },
        "id": "S_HKYr4TD0ri",
        "outputId": "8bff0db2-7b5a-4546-cf13-007d1de4c9f8"
      },
      "execution_count": 35,
      "outputs": [
        {
          "output_type": "stream",
          "name": "stdout",
          "text": [
            "Season                                              Autumn  Spring  Summer  \\\n",
            "Violation_Description                                                        \n",
            "0100 - PIC certified by accredited program or c...      87      99      65   \n",
            "0100 - PIC certified by accredited program...           28      11       5   \n",
            "0100 - PIC certified by accredited programor co...       0       1       0   \n",
            "0100 - PIC present, demonstrates knowledge and ...      17       0       0   \n",
            "0200 - Food Worker Cards current for all food w...    1246    1356     871   \n",
            "...                                                    ...     ...     ...   \n",
            "Utensils, equipment, linens properly stored,...         24      18      16   \n",
            "Variance obtained for specialized processing ...         0       2       1   \n",
            "Warewashing facilities properly installed,...          259     234     113   \n",
            "Water supply, ice from approved source                   4       5       0   \n",
            "Wiping cloths properly used, stored                    308     384     164   \n",
            "\n",
            "Season                                              Winter  \n",
            "Violation_Description                                       \n",
            "0100 - PIC certified by accredited program or c...      75  \n",
            "0100 - PIC certified by accredited program...           20  \n",
            "0100 - PIC certified by accredited programor co...       0  \n",
            "0100 - PIC present, demonstrates knowledge and ...       0  \n",
            "0200 - Food Worker Cards current for all food w...    1388  \n",
            "...                                                    ...  \n",
            "Utensils, equipment, linens properly stored,...         26  \n",
            "Variance obtained for specialized processing ...         1  \n",
            "Warewashing facilities properly installed,...          287  \n",
            "Water supply, ice from approved source                   3  \n",
            "Wiping cloths properly used, stored                    359  \n",
            "\n",
            "[147 rows x 4 columns]\n"
          ]
        }
      ]
    },
    {
      "cell_type": "markdown",
      "source": [
        "### گروه بندی نوع تخلف و کارت دریافتی و مشخص شدن بسته بودن یا نبودن رستوران"
      ],
      "metadata": {
        "id": "5MTUuJawrVTE"
      }
    },
    {
      "cell_type": "code",
      "source": [
        "dd = pd.pivot_table(df, values=('Inspection_Closed_Business'), \n",
        "                        index=['Violation_Type','Violation_Description'], aggfunc='first')\n",
        "dd"
      ],
      "metadata": {
        "colab": {
          "base_uri": "https://localhost:8080/",
          "height": 516
        },
        "id": "6nkTRfJruFk2",
        "outputId": "62540978-b2e9-4d1b-9981-befb85794250"
      },
      "execution_count": null,
      "outputs": [
        {
          "output_type": "execute_result",
          "data": {
            "text/plain": [
              "                                                                   Inspection_Closed_Business\n",
              "Violation_Type Violation_Description                                                         \n",
              "BLUE           0200 - Food Worker Cards current for all food...                         False\n",
              "               0500 - Proper methods used to prevent bare hand...                       False\n",
              "               0600 - Adequate handwashing facilities                                   False\n",
              "               1600 - Proper cooling procedure                                          False\n",
              "               2110 - Proper cold holding temperatures (greate...                       False\n",
              "...                                                                                       ...\n",
              "RED            Proper shellfish identification; proper parasit...                       False\n",
              "               Proper washing of fruits and vegetables                                  False\n",
              "               Raw meats below and away from RTE food                                   False\n",
              "               Toxic substances properly identified,...                                 False\n",
              "               Water supply, ice from approved source                                   False\n",
              "\n",
              "[138 rows x 1 columns]"
            ],
            "text/html": [
              "\n",
              "  <div id=\"df-15ca04b4-8322-4d66-96da-51b38533db9d\">\n",
              "    <div class=\"colab-df-container\">\n",
              "      <div>\n",
              "<style scoped>\n",
              "    .dataframe tbody tr th:only-of-type {\n",
              "        vertical-align: middle;\n",
              "    }\n",
              "\n",
              "    .dataframe tbody tr th {\n",
              "        vertical-align: top;\n",
              "    }\n",
              "\n",
              "    .dataframe thead th {\n",
              "        text-align: right;\n",
              "    }\n",
              "</style>\n",
              "<table border=\"1\" class=\"dataframe\">\n",
              "  <thead>\n",
              "    <tr style=\"text-align: right;\">\n",
              "      <th></th>\n",
              "      <th></th>\n",
              "      <th>Inspection_Closed_Business</th>\n",
              "    </tr>\n",
              "    <tr>\n",
              "      <th>Violation_Type</th>\n",
              "      <th>Violation_Description</th>\n",
              "      <th></th>\n",
              "    </tr>\n",
              "  </thead>\n",
              "  <tbody>\n",
              "    <tr>\n",
              "      <th rowspan=\"5\" valign=\"top\">BLUE</th>\n",
              "      <th>0200 - Food Worker Cards current for all food...</th>\n",
              "      <td>False</td>\n",
              "    </tr>\n",
              "    <tr>\n",
              "      <th>0500 - Proper methods used to prevent bare hand...</th>\n",
              "      <td>False</td>\n",
              "    </tr>\n",
              "    <tr>\n",
              "      <th>0600 - Adequate handwashing facilities</th>\n",
              "      <td>False</td>\n",
              "    </tr>\n",
              "    <tr>\n",
              "      <th>1600 - Proper cooling procedure</th>\n",
              "      <td>False</td>\n",
              "    </tr>\n",
              "    <tr>\n",
              "      <th>2110 - Proper cold holding temperatures (greater than  45 degrees F)</th>\n",
              "      <td>False</td>\n",
              "    </tr>\n",
              "    <tr>\n",
              "      <th>...</th>\n",
              "      <th>...</th>\n",
              "      <td>...</td>\n",
              "    </tr>\n",
              "    <tr>\n",
              "      <th rowspan=\"5\" valign=\"top\">RED</th>\n",
              "      <th>Proper shellfish identification; proper parasit...</th>\n",
              "      <td>False</td>\n",
              "    </tr>\n",
              "    <tr>\n",
              "      <th>Proper washing of fruits and vegetables</th>\n",
              "      <td>False</td>\n",
              "    </tr>\n",
              "    <tr>\n",
              "      <th>Raw meats below and away from RTE food</th>\n",
              "      <td>False</td>\n",
              "    </tr>\n",
              "    <tr>\n",
              "      <th>Toxic substances properly identified,...</th>\n",
              "      <td>False</td>\n",
              "    </tr>\n",
              "    <tr>\n",
              "      <th>Water supply, ice from approved source</th>\n",
              "      <td>False</td>\n",
              "    </tr>\n",
              "  </tbody>\n",
              "</table>\n",
              "<p>138 rows × 1 columns</p>\n",
              "</div>\n",
              "      <button class=\"colab-df-convert\" onclick=\"convertToInteractive('df-15ca04b4-8322-4d66-96da-51b38533db9d')\"\n",
              "              title=\"Convert this dataframe to an interactive table.\"\n",
              "              style=\"display:none;\">\n",
              "        \n",
              "  <svg xmlns=\"http://www.w3.org/2000/svg\" height=\"24px\"viewBox=\"0 0 24 24\"\n",
              "       width=\"24px\">\n",
              "    <path d=\"M0 0h24v24H0V0z\" fill=\"none\"/>\n",
              "    <path d=\"M18.56 5.44l.94 2.06.94-2.06 2.06-.94-2.06-.94-.94-2.06-.94 2.06-2.06.94zm-11 1L8.5 8.5l.94-2.06 2.06-.94-2.06-.94L8.5 2.5l-.94 2.06-2.06.94zm10 10l.94 2.06.94-2.06 2.06-.94-2.06-.94-.94-2.06-.94 2.06-2.06.94z\"/><path d=\"M17.41 7.96l-1.37-1.37c-.4-.4-.92-.59-1.43-.59-.52 0-1.04.2-1.43.59L10.3 9.45l-7.72 7.72c-.78.78-.78 2.05 0 2.83L4 21.41c.39.39.9.59 1.41.59.51 0 1.02-.2 1.41-.59l7.78-7.78 2.81-2.81c.8-.78.8-2.07 0-2.86zM5.41 20L4 18.59l7.72-7.72 1.47 1.35L5.41 20z\"/>\n",
              "  </svg>\n",
              "      </button>\n",
              "      \n",
              "  <style>\n",
              "    .colab-df-container {\n",
              "      display:flex;\n",
              "      flex-wrap:wrap;\n",
              "      gap: 12px;\n",
              "    }\n",
              "\n",
              "    .colab-df-convert {\n",
              "      background-color: #E8F0FE;\n",
              "      border: none;\n",
              "      border-radius: 50%;\n",
              "      cursor: pointer;\n",
              "      display: none;\n",
              "      fill: #1967D2;\n",
              "      height: 32px;\n",
              "      padding: 0 0 0 0;\n",
              "      width: 32px;\n",
              "    }\n",
              "\n",
              "    .colab-df-convert:hover {\n",
              "      background-color: #E2EBFA;\n",
              "      box-shadow: 0px 1px 2px rgba(60, 64, 67, 0.3), 0px 1px 3px 1px rgba(60, 64, 67, 0.15);\n",
              "      fill: #174EA6;\n",
              "    }\n",
              "\n",
              "    [theme=dark] .colab-df-convert {\n",
              "      background-color: #3B4455;\n",
              "      fill: #D2E3FC;\n",
              "    }\n",
              "\n",
              "    [theme=dark] .colab-df-convert:hover {\n",
              "      background-color: #434B5C;\n",
              "      box-shadow: 0px 1px 3px 1px rgba(0, 0, 0, 0.15);\n",
              "      filter: drop-shadow(0px 1px 2px rgba(0, 0, 0, 0.3));\n",
              "      fill: #FFFFFF;\n",
              "    }\n",
              "  </style>\n",
              "\n",
              "      <script>\n",
              "        const buttonEl =\n",
              "          document.querySelector('#df-15ca04b4-8322-4d66-96da-51b38533db9d button.colab-df-convert');\n",
              "        buttonEl.style.display =\n",
              "          google.colab.kernel.accessAllowed ? 'block' : 'none';\n",
              "\n",
              "        async function convertToInteractive(key) {\n",
              "          const element = document.querySelector('#df-15ca04b4-8322-4d66-96da-51b38533db9d');\n",
              "          const dataTable =\n",
              "            await google.colab.kernel.invokeFunction('convertToInteractive',\n",
              "                                                     [key], {});\n",
              "          if (!dataTable) return;\n",
              "\n",
              "          const docLinkHtml = 'Like what you see? Visit the ' +\n",
              "            '<a target=\"_blank\" href=https://colab.research.google.com/notebooks/data_table.ipynb>data table notebook</a>'\n",
              "            + ' to learn more about interactive tables.';\n",
              "          element.innerHTML = '';\n",
              "          dataTable['output_type'] = 'display_data';\n",
              "          await google.colab.output.renderOutput(dataTable, element);\n",
              "          const docLink = document.createElement('div');\n",
              "          docLink.innerHTML = docLinkHtml;\n",
              "          element.appendChild(docLink);\n",
              "        }\n",
              "      </script>\n",
              "    </div>\n",
              "  </div>\n",
              "  "
            ]
          },
          "metadata": {},
          "execution_count": 5
        }
      ]
    },
    {
      "cell_type": "markdown",
      "source": [
        "### بر اساس هر کارت چه تعداد رستوران بسته شده یا باز است "
      ],
      "metadata": {
        "id": "Do0cmj0Dq9YT"
      }
    },
    {
      "cell_type": "code",
      "source": [
        "CrosstabResult=pd.crosstab(index=df['Violation_Type'],columns=df['Inspection_Closed_Business'])\n",
        "print(CrosstabResult)\n",
        "CrosstabResult.plot.bar(figsize=(6,4), rot=0)"
      ],
      "metadata": {
        "colab": {
          "base_uri": "https://localhost:8080/",
          "height": 384
        },
        "id": "StoSOpxht3mr",
        "outputId": "7d910181-98ac-4903-b5c4-5ad662120336"
      },
      "execution_count": null,
      "outputs": [
        {
          "output_type": "stream",
          "name": "stdout",
          "text": [
            "Inspection_Closed_Business  False  True\n",
            "Violation_Type                         \n",
            "BLUE                         7593    24\n",
            "Green                       13146     2\n",
            "RED                          9053    42\n"
          ]
        },
        {
          "output_type": "execute_result",
          "data": {
            "text/plain": [
              "<matplotlib.axes._subplots.AxesSubplot at 0x7f320116d1f0>"
            ]
          },
          "metadata": {},
          "execution_count": 4
        },
        {
          "output_type": "display_data",
          "data": {
            "text/plain": [
              "<Figure size 432x288 with 1 Axes>"
            ],
            "image/png": "[encoded data removed]"
          },
          "metadata": {
            "needs_background": "light"
          }
        }
      ]
    },
    {
      "cell_type": "markdown",
      "source": [
        "### درصد بندی هر کارت "
      ],
      "metadata": {
        "id": "taPmEgvdskul"
      }
    },
    {
      "cell_type": "code",
      "source": [
        "total=np.round(df['Violation_Type'].value_counts(normalize=True)*100)\n",
        "total.to_frame()"
      ],
      "metadata": {
        "colab": {
          "base_uri": "https://localhost:8080/",
          "height": 143
        },
        "id": "S573iwxDxQm6",
        "outputId": "b78ff13e-2b98-462b-cd42-f03c21e202d6"
      },
      "execution_count": null,
      "outputs": [
        {
          "output_type": "execute_result",
          "data": {
            "text/plain": [
              "       Violation_Type\n",
              "Green            44.0\n",
              "RED              30.0\n",
              "BLUE             26.0"
            ],
            "text/html": [
              "\n",
              "  <div id=\"df-e375f670-5ca3-4825-863a-77bd1dca52e9\">\n",
              "    <div class=\"colab-df-container\">\n",
              "      <div>\n",
              "<style scoped>\n",
              "    .dataframe tbody tr th:only-of-type {\n",
              "        vertical-align: middle;\n",
              "    }\n",
              "\n",
              "    .dataframe tbody tr th {\n",
              "        vertical-align: top;\n",
              "    }\n",
              "\n",
              "    .dataframe thead th {\n",
              "        text-align: right;\n",
              "    }\n",
              "</style>\n",
              "<table border=\"1\" class=\"dataframe\">\n",
              "  <thead>\n",
              "    <tr style=\"text-align: right;\">\n",
              "      <th></th>\n",
              "      <th>Violation_Type</th>\n",
              "    </tr>\n",
              "  </thead>\n",
              "  <tbody>\n",
              "    <tr>\n",
              "      <th>Green</th>\n",
              "      <td>44.0</td>\n",
              "    </tr>\n",
              "    <tr>\n",
              "      <th>RED</th>\n",
              "      <td>30.0</td>\n",
              "    </tr>\n",
              "    <tr>\n",
              "      <th>BLUE</th>\n",
              "      <td>26.0</td>\n",
              "    </tr>\n",
              "  </tbody>\n",
              "</table>\n",
              "</div>\n",
              "      <button class=\"colab-df-convert\" onclick=\"convertToInteractive('df-e375f670-5ca3-4825-863a-77bd1dca52e9')\"\n",
              "              title=\"Convert this dataframe to an interactive table.\"\n",
              "              style=\"display:none;\">\n",
              "        \n",
              "  <svg xmlns=\"http://www.w3.org/2000/svg\" height=\"24px\"viewBox=\"0 0 24 24\"\n",
              "       width=\"24px\">\n",
              "    <path d=\"M0 0h24v24H0V0z\" fill=\"none\"/>\n",
              "    <path d=\"M18.56 5.44l.94 2.06.94-2.06 2.06-.94-2.06-.94-.94-2.06-.94 2.06-2.06.94zm-11 1L8.5 8.5l.94-2.06 2.06-.94-2.06-.94L8.5 2.5l-.94 2.06-2.06.94zm10 10l.94 2.06.94-2.06 2.06-.94-2.06-.94-.94-2.06-.94 2.06-2.06.94z\"/><path d=\"M17.41 7.96l-1.37-1.37c-.4-.4-.92-.59-1.43-.59-.52 0-1.04.2-1.43.59L10.3 9.45l-7.72 7.72c-.78.78-.78 2.05 0 2.83L4 21.41c.39.39.9.59 1.41.59.51 0 1.02-.2 1.41-.59l7.78-7.78 2.81-2.81c.8-.78.8-2.07 0-2.86zM5.41 20L4 18.59l7.72-7.72 1.47 1.35L5.41 20z\"/>\n",
              "  </svg>\n",
              "      </button>\n",
              "      \n",
              "  <style>\n",
              "    .colab-df-container {\n",
              "      display:flex;\n",
              "      flex-wrap:wrap;\n",
              "      gap: 12px;\n",
              "    }\n",
              "\n",
              "    .colab-df-convert {\n",
              "      background-color: #E8F0FE;\n",
              "      border: none;\n",
              "      border-radius: 50%;\n",
              "      cursor: pointer;\n",
              "      display: none;\n",
              "      fill: #1967D2;\n",
              "      height: 32px;\n",
              "      padding: 0 0 0 0;\n",
              "      width: 32px;\n",
              "    }\n",
              "\n",
              "    .colab-df-convert:hover {\n",
              "      background-color: #E2EBFA;\n",
              "      box-shadow: 0px 1px 2px rgba(60, 64, 67, 0.3), 0px 1px 3px 1px rgba(60, 64, 67, 0.15);\n",
              "      fill: #174EA6;\n",
              "    }\n",
              "\n",
              "    [theme=dark] .colab-df-convert {\n",
              "      background-color: #3B4455;\n",
              "      fill: #D2E3FC;\n",
              "    }\n",
              "\n",
              "    [theme=dark] .colab-df-convert:hover {\n",
              "      background-color: #434B5C;\n",
              "      box-shadow: 0px 1px 3px 1px rgba(0, 0, 0, 0.15);\n",
              "      filter: drop-shadow(0px 1px 2px rgba(0, 0, 0, 0.3));\n",
              "      fill: #FFFFFF;\n",
              "    }\n",
              "  </style>\n",
              "\n",
              "      <script>\n",
              "        const buttonEl =\n",
              "          document.querySelector('#df-e375f670-5ca3-4825-863a-77bd1dca52e9 button.colab-df-convert');\n",
              "        buttonEl.style.display =\n",
              "          google.colab.kernel.accessAllowed ? 'block' : 'none';\n",
              "\n",
              "        async function convertToInteractive(key) {\n",
              "          const element = document.querySelector('#df-e375f670-5ca3-4825-863a-77bd1dca52e9');\n",
              "          const dataTable =\n",
              "            await google.colab.kernel.invokeFunction('convertToInteractive',\n",
              "                                                     [key], {});\n",
              "          if (!dataTable) return;\n",
              "\n",
              "          const docLinkHtml = 'Like what you see? Visit the ' +\n",
              "            '<a target=\"_blank\" href=https://colab.research.google.com/notebooks/data_table.ipynb>data table notebook</a>'\n",
              "            + ' to learn more about interactive tables.';\n",
              "          element.innerHTML = '';\n",
              "          dataTable['output_type'] = 'display_data';\n",
              "          await google.colab.output.renderOutput(dataTable, element);\n",
              "          const docLink = document.createElement('div');\n",
              "          docLink.innerHTML = docLinkHtml;\n",
              "          element.appendChild(docLink);\n",
              "        }\n",
              "      </script>\n",
              "    </div>\n",
              "  </div>\n",
              "  "
            ]
          },
          "metadata": {},
          "execution_count": 7
        }
      ]
    },
    {
      "cell_type": "code",
      "source": [
        "Violation_Type = ['BLUE', 'RED', 'No_card']\n",
        "Percentage = [26, 30, 44]\n",
        "\n",
        "fig , ax = plt.subplots()\n",
        "ax.pie(Percentage,labels = Violation_Type, explode = [0.06]*3, autopct=\"%.0f%%\")\n",
        "ax.set_title('Percentage - Violation Type', fontsize=16)"
      ],
      "metadata": {
        "colab": {
          "base_uri": "https://localhost:8080/",
          "height": 283
        },
        "id": "b1lG3PynAMGQ",
        "outputId": "0503f13b-db1c-4a6b-b8f2-13f86ab682b8"
      },
      "execution_count": null,
      "outputs": [
        {
          "output_type": "execute_result",
          "data": {
            "text/plain": [
              "Text(0.5, 1.0, 'Percentage - Violation Type')"
            ]
          },
          "metadata": {},
          "execution_count": 9
        },
        {
          "output_type": "display_data",
          "data": {
            "text/plain": [
              "<Figure size 432x288 with 1 Axes>"
            ],
            "image/png": "[encoded data removed]"
          },
          "metadata": {}
        }
      ]
    },
    {
      "cell_type": "markdown",
      "source": [
        "### در هر ماه از هر کارت چه تعداد استفاده شده است"
      ],
      "metadata": {
        "id": "CZ2_es-zszMs"
      }
    },
    {
      "cell_type": "code",
      "source": [
        "sns.histplot(df, x=\"Month\", hue=\"Violation_Type\", element=\"step\")"
      ],
      "metadata": {
        "colab": {
          "base_uri": "https://localhost:8080/",
          "height": 296
        },
        "id": "_1p_Hf_lhNY1",
        "outputId": "000e5241-e896-483b-b82b-9cbe4a88dd7b"
      },
      "execution_count": 5,
      "outputs": [
        {
          "output_type": "execute_result",
          "data": {
            "text/plain": [
              "<matplotlib.axes._subplots.AxesSubplot at 0x7f6ba39bf8e0>"
            ]
          },
          "metadata": {},
          "execution_count": 5
        },
        {
          "output_type": "display_data",
          "data": {
            "text/plain": [
              "<Figure size 432x288 with 1 Axes>"
            ],
            "image/png": "[encoded data removed]"
          },
          "metadata": {
            "needs_background": "light"
          }
        }
      ]
    },
    {
      "cell_type": "markdown",
      "source": [
        "### در فصل های مختلف از هر کارت چه تعداد استفاده شده است"
      ],
      "metadata": {
        "id": "v1wBKvkKs-q8"
      }
    },
    {
      "cell_type": "code",
      "source": [
        "sns.histplot(binwidth=1, x='Season', hue='Violation_Type', data=df, stat='count', multiple='dodge')"
      ],
      "metadata": {
        "colab": {
          "base_uri": "https://localhost:8080/",
          "height": 296
        },
        "id": "f5Q4xpSZ5lcO",
        "outputId": "d86ff6f6-c318-4e91-e57f-f8f28bde608e"
      },
      "execution_count": null,
      "outputs": [
        {
          "output_type": "execute_result",
          "data": {
            "text/plain": [
              "<matplotlib.axes._subplots.AxesSubplot at 0x7f31fe225f40>"
            ]
          },
          "metadata": {},
          "execution_count": 12
        },
        {
          "output_type": "display_data",
          "data": {
            "text/plain": [
              "<Figure size 432x288 with 1 Axes>"
            ],
            "image/png": "[encoded data removed]"
          },
          "metadata": {
            "needs_background": "light"
          }
        }
      ]
    },
    {
      "cell_type": "markdown",
      "source": [
        "### در روزهای مختلف از هر کارت چه تعداد استفاده شده است"
      ],
      "metadata": {
        "id": "YF8lfdVYtUX2"
      }
    },
    {
      "cell_type": "code",
      "source": [
        "sns.histplot(binwidth=1, x='day_of_week', hue='Violation_Type', data=df, stat='count', multiple='dodge')"
      ],
      "metadata": {
        "colab": {
          "base_uri": "https://localhost:8080/",
          "height": 297
        },
        "id": "a9CmoTaQksaz",
        "outputId": "36811e99-355a-4a7a-f079-6aa2ae9dcd50"
      },
      "execution_count": 15,
      "outputs": [
        {
          "output_type": "execute_result",
          "data": {
            "text/plain": [
              "<matplotlib.axes._subplots.AxesSubplot at 0x7f6ba2e32700>"
            ]
          },
          "metadata": {},
          "execution_count": 15
        },
        {
          "output_type": "display_data",
          "data": {
            "text/plain": [
              "<Figure size 432x288 with 1 Axes>"
            ],
            "image/png": "[encoded data removed]"
          },
          "metadata": {
            "needs_background": "light"
          }
        }
      ]
    },
    {
      "cell_type": "markdown",
      "source": [
        "### امتیاز بازرسی در ماه های مختلف"
      ],
      "metadata": {
        "id": "Z4-Y5AQRBxp7"
      }
    },
    {
      "cell_type": "code",
      "source": [
        "df.plot(kind='scatter', y = 'Inspection_Score', x='Month')"
      ],
      "metadata": {
        "colab": {
          "base_uri": "https://localhost:8080/",
          "height": 296
        },
        "id": "obvxlFq2BFds",
        "outputId": "d435828f-5f8e-40e4-9e1f-23190cf579e7"
      },
      "execution_count": 27,
      "outputs": [
        {
          "output_type": "execute_result",
          "data": {
            "text/plain": [
              "<matplotlib.axes._subplots.AxesSubplot at 0x7f6ba00ddaf0>"
            ]
          },
          "metadata": {},
          "execution_count": 27
        },
        {
          "output_type": "display_data",
          "data": {
            "text/plain": [
              "<Figure size 432x288 with 1 Axes>"
            ],
            "image/png": "[encoded data removed]"
          },
          "metadata": {
            "needs_background": "light"
          }
        }
      ]
    },
    {
      "cell_type": "markdown",
      "source": [
        "### امتیاز بازرسی در سال های مختلف"
      ],
      "metadata": {
        "id": "FV4Dwc6qtsxT"
      }
    },
    {
      "cell_type": "code",
      "source": [
        "sns.scatterplot(data=df, x=\"Year\", y=\"Inspection_Score\", legend=False, sizes=(20, 2000))\n",
        "\n",
        "plt.show()"
      ],
      "metadata": {
        "colab": {
          "base_uri": "https://localhost:8080/",
          "height": 279
        },
        "id": "mX2PMqQXDuBj",
        "outputId": "d535caef-ae59-46e7-c8df-4df627c94ec7"
      },
      "execution_count": null,
      "outputs": [
        {
          "output_type": "display_data",
          "data": {
            "text/plain": [
              "<Figure size 432x288 with 1 Axes>"
            ],
            "image/png": "[encoded data removed]"
          },
          "metadata": {
            "needs_background": "light"
          }
        }
      ]
    },
    {
      "cell_type": "markdown",
      "source": [
        "### رابطه بین کارت تخلف و امتیاز بازرسی"
      ],
      "metadata": {
        "id": "fBAbLO_Yt1aU"
      }
    },
    {
      "cell_type": "code",
      "source": [
        "df = pd.DataFrame(np.random.randn(1000, 2), columns=[\"Violation_Type\", \"Inspection_Score\"])\n",
        "\n",
        "df[\"Inspection_Score\"] = df[\"Inspection_Score\"] + np.arange(1000)\n",
        "#df[\"Violation_Points\"] = df[\"Violation_Points\"] + np.arange(1000)\n",
        "\n",
        "df.plot.hexbin(x=\"Violation_Type\", y=\"Inspection_Score\", gridsize=25)"
      ],
      "metadata": {
        "colab": {
          "base_uri": "https://localhost:8080/",
          "height": 275
        },
        "id": "f02ZV6iRIFUo",
        "outputId": "bc5bb647-056a-459c-ab47-1b0f6c0da29b"
      },
      "execution_count": null,
      "outputs": [
        {
          "output_type": "execute_result",
          "data": {
            "text/plain": [
              "<matplotlib.axes._subplots.AxesSubplot at 0x7f31fdc14a30>"
            ]
          },
          "metadata": {},
          "execution_count": 26
        },
        {
          "output_type": "display_data",
          "data": {
            "text/plain": [
              "<Figure size 432x288 with 2 Axes>"
            ],
            "image/png": "[encoded data removed]"
          },
          "metadata": {
            "needs_background": "light"
          }
        }
      ]
    },
    {
      "cell_type": "markdown",
      "source": [
        "### کارت تخلف استفاده شده در سال های مختلف\n"
      ],
      "metadata": {
        "id": "WaihNEv-t_8-"
      }
    },
    {
      "cell_type": "code",
      "source": [
        "sns.relplot(data=df, x='Year', y='Violation_Type',kind='line')"
      ],
      "metadata": {
        "id": "b7-IfKd7Msvb",
        "colab": {
          "base_uri": "https://localhost:8080/",
          "height": 382
        },
        "outputId": "a80fd458-9bc7-4711-84f4-e77d2ffa03b4"
      },
      "execution_count": null,
      "outputs": [
        {
          "output_type": "execute_result",
          "data": {
            "text/plain": [
              "<seaborn.axisgrid.FacetGrid at 0x7f31fa12ba30>"
            ]
          },
          "metadata": {},
          "execution_count": 54
        },
        {
          "output_type": "display_data",
          "data": {
            "text/plain": [
              "<Figure size 360x360 with 1 Axes>"
            ],
            "image/png": "[encoded data removed]"
          },
          "metadata": {}
        }
      ]
    },
    {
      "cell_type": "markdown",
      "source": [
        "### کارت تخلف استفاده شده در ماه های مختلف"
      ],
      "metadata": {
        "id": "JyzPnFhd_DVz"
      }
    },
    {
      "cell_type": "code",
      "source": [
        "sns.relplot(data=df, x='Month', y='Violation_Type',kind='line')"
      ],
      "metadata": {
        "colab": {
          "base_uri": "https://localhost:8080/",
          "height": 386
        },
        "id": "ZaeV8LAf-vK3",
        "outputId": "aa54aea3-8f66-4c9b-9751-0d7789a6f2d3"
      },
      "execution_count": 25,
      "outputs": [
        {
          "output_type": "execute_result",
          "data": {
            "text/plain": [
              "<seaborn.axisgrid.FacetGrid at 0x7f6ba2a6cc10>"
            ]
          },
          "metadata": {},
          "execution_count": 25
        },
        {
          "output_type": "display_data",
          "data": {
            "text/plain": [
              "<Figure size 360x360 with 1 Axes>"
            ],
            "image/png": "[encoded data removed]"
          },
          "metadata": {
            "needs_background": "light"
          }
        }
      ]
    },
    {
      "cell_type": "markdown",
      "source": [
        "### تعداد کارت های دریافتی بین امتیاز بازرسی و نقاط تخلف"
      ],
      "metadata": {
        "id": "FG0FpLQJuXmE"
      }
    },
    {
      "cell_type": "code",
      "source": [
        "sns.set_theme()\n",
        "g = sns.lmplot(\n",
        "    data=df,\n",
        "    x=\"Inspection_Score\", y=\"Violation_Points\", hue=\"Violation_Type\",\n",
        "    height=5)\n",
        "g.set_axis_labels(\"Inspection_Score\", \"Violation_Points\")"
      ],
      "metadata": {
        "id": "Xem2GPOGWrHP",
        "colab": {
          "base_uri": "https://localhost:8080/",
          "height": 382
        },
        "outputId": "d8a24f87-d9fc-4402-da2b-b09e7b00bf44"
      },
      "execution_count": null,
      "outputs": [
        {
          "output_type": "execute_result",
          "data": {
            "text/plain": [
              "<seaborn.axisgrid.FacetGrid at 0x7f31fb648460>"
            ]
          },
          "metadata": {},
          "execution_count": 56
        },
        {
          "output_type": "display_data",
          "data": {
            "text/plain": [
              "<Figure size 454.925x360 with 1 Axes>"
            ],
            "image/png": "[encoded data removed]"
          },
          "metadata": {}
        }
      ]
    }
  ],
  "metadata": {
    "colab": {
      "provenance": []
    },
    "kernelspec": {
      "display_name": "Python 3",
      "name": "python3"
    },
    "language_info": {
      "name": "python"
    }
  },
  "nbformat": 4,
  "nbformat_minor": 0
}