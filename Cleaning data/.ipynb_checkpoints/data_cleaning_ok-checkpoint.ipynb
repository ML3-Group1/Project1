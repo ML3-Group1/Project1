{
 "cells": [
  {
   "cell_type": "markdown",
   "metadata": {
    "id": "WCYz4E8cgHTg"
   },
   "source": [
    "# کتابخانه های مربوطه"
   ]
  },
  {
   "cell_type": "code",
   "execution_count": 161,
   "metadata": {
    "id": "QSFhY6R4f_NC"
   },
   "outputs": [],
   "source": [
    "import pandas as pd\n",
    "import numpy as np\n",
    "import matplotlib.pyplot as plt\n",
    "import seaborn as sns"
   ]
  },
  {
   "cell_type": "markdown",
   "metadata": {
    "id": "jjkm6-_jggtu"
   },
   "source": [
    "#  اسم گذاری صحیح ستون ها در صورت نیاز\n"
   ]
  },
  {
   "cell_type": "code",
   "execution_count": 162,
   "metadata": {
    "colab": {
     "base_uri": "https://localhost:8080/",
     "height": 596
    },
    "id": "2EC-Wefuf_NJ",
    "outputId": "bc213e47-fbc7-4054-c9f4-f7952f2a69c9"
   },
   "outputs": [
    {
     "name": "stderr",
     "output_type": "stream",
     "text": [
      "C:\\Users\\Sara Safi\\anaconda3\\lib\\site-packages\\IPython\\core\\interactiveshell.py:3146: DtypeWarning: Columns (6) have mixed types.Specify dtype option on import or set low_memory=False.\n",
      "  has_raised = await self.run_ast_nodes(code_ast.body, cell_name,\n"
     ]
    },
    {
     "data": {
      "text/html": [
       "<div>\n",
       "<style scoped>\n",
       "    .dataframe tbody tr th:only-of-type {\n",
       "        vertical-align: middle;\n",
       "    }\n",
       "\n",
       "    .dataframe tbody tr th {\n",
       "        vertical-align: top;\n",
       "    }\n",
       "\n",
       "    .dataframe thead th {\n",
       "        text-align: right;\n",
       "    }\n",
       "</style>\n",
       "<table border=\"1\" class=\"dataframe\">\n",
       "  <thead>\n",
       "    <tr style=\"text-align: right;\">\n",
       "      <th></th>\n",
       "      <th>Name</th>\n",
       "      <th>Program_Identifier</th>\n",
       "      <th>Inspection_Date</th>\n",
       "      <th>Description</th>\n",
       "      <th>Address</th>\n",
       "      <th>City</th>\n",
       "      <th>Zip_Code</th>\n",
       "      <th>Phone</th>\n",
       "      <th>Longitude</th>\n",
       "      <th>Latitude</th>\n",
       "      <th>...</th>\n",
       "      <th>Inspection_Score</th>\n",
       "      <th>Inspection_Result</th>\n",
       "      <th>Inspection_Closed_Business</th>\n",
       "      <th>Violation_Type</th>\n",
       "      <th>Violation_Description</th>\n",
       "      <th>Violation_Points</th>\n",
       "      <th>Business_ID</th>\n",
       "      <th>Inspection_Serial_Num</th>\n",
       "      <th>Violation_Record_ID</th>\n",
       "      <th>Grade</th>\n",
       "    </tr>\n",
       "  </thead>\n",
       "  <tbody>\n",
       "    <tr>\n",
       "      <th>0</th>\n",
       "      <td>#807 TUTTA BELLA</td>\n",
       "      <td>#807 TUTTA BELLA</td>\n",
       "      <td>08/31/2022</td>\n",
       "      <td>Seating 0-12 - Risk Category III</td>\n",
       "      <td>2746 NE 45TH ST</td>\n",
       "      <td>SEATTLE</td>\n",
       "      <td>98105</td>\n",
       "      <td>(206) 722-6400</td>\n",
       "      <td>-122.296415</td>\n",
       "      <td>47.662311</td>\n",
       "      <td>...</td>\n",
       "      <td>10.0</td>\n",
       "      <td>Unsatisfactory</td>\n",
       "      <td>False</td>\n",
       "      <td>BLUE</td>\n",
       "      <td>3200 - Insects, rodents, animals not present; ...</td>\n",
       "      <td>5</td>\n",
       "      <td>PR0089260</td>\n",
       "      <td>DAEEWQC0L</td>\n",
       "      <td>IVQ7QYW2V</td>\n",
       "      <td>1.0</td>\n",
       "    </tr>\n",
       "    <tr>\n",
       "      <th>1</th>\n",
       "      <td>#807 TUTTA BELLA</td>\n",
       "      <td>#807 TUTTA BELLA</td>\n",
       "      <td>08/31/2022</td>\n",
       "      <td>Seating 0-12 - Risk Category III</td>\n",
       "      <td>2746 NE 45TH ST</td>\n",
       "      <td>SEATTLE</td>\n",
       "      <td>98105</td>\n",
       "      <td>(206) 722-6400</td>\n",
       "      <td>-122.296415</td>\n",
       "      <td>47.662311</td>\n",
       "      <td>...</td>\n",
       "      <td>10.0</td>\n",
       "      <td>Unsatisfactory</td>\n",
       "      <td>False</td>\n",
       "      <td>RED</td>\n",
       "      <td>0200 - Food Worker Cards current for all food ...</td>\n",
       "      <td>5</td>\n",
       "      <td>PR0089260</td>\n",
       "      <td>DAEEWQC0L</td>\n",
       "      <td>IV0J437H6</td>\n",
       "      <td>1.0</td>\n",
       "    </tr>\n",
       "    <tr>\n",
       "      <th>2</th>\n",
       "      <td>#807 TUTTA BELLA</td>\n",
       "      <td>#807 TUTTA BELLA</td>\n",
       "      <td>01/13/2022</td>\n",
       "      <td>Seating 0-12 - Risk Category III</td>\n",
       "      <td>2746 NE 45TH ST</td>\n",
       "      <td>SEATTLE</td>\n",
       "      <td>98105</td>\n",
       "      <td>(206) 722-6400</td>\n",
       "      <td>-122.296415</td>\n",
       "      <td>47.662311</td>\n",
       "      <td>...</td>\n",
       "      <td>0.0</td>\n",
       "      <td>Satisfactory</td>\n",
       "      <td>False</td>\n",
       "      <td>NaN</td>\n",
       "      <td>NaN</td>\n",
       "      <td>0</td>\n",
       "      <td>PR0089260</td>\n",
       "      <td>DAWWGK08K</td>\n",
       "      <td>NaN</td>\n",
       "      <td>1.0</td>\n",
       "    </tr>\n",
       "    <tr>\n",
       "      <th>3</th>\n",
       "      <td>#807 TUTTA BELLA</td>\n",
       "      <td>#807 TUTTA BELLA</td>\n",
       "      <td>01/06/2021</td>\n",
       "      <td>Seating 0-12 - Risk Category III</td>\n",
       "      <td>2746 NE 45TH ST</td>\n",
       "      <td>SEATTLE</td>\n",
       "      <td>98105</td>\n",
       "      <td>(206) 722-6400</td>\n",
       "      <td>-122.296415</td>\n",
       "      <td>47.662311</td>\n",
       "      <td>...</td>\n",
       "      <td>0.0</td>\n",
       "      <td>Satisfactory</td>\n",
       "      <td>False</td>\n",
       "      <td>NaN</td>\n",
       "      <td>NaN</td>\n",
       "      <td>0</td>\n",
       "      <td>PR0089260</td>\n",
       "      <td>DAUHM2FT8</td>\n",
       "      <td>NaN</td>\n",
       "      <td>1.0</td>\n",
       "    </tr>\n",
       "    <tr>\n",
       "      <th>4</th>\n",
       "      <td>+MAS CAFE</td>\n",
       "      <td>+MAS CAFE</td>\n",
       "      <td>07/13/2022</td>\n",
       "      <td>Seating 0-12 - Risk Category III</td>\n",
       "      <td>1906 N 34TH ST</td>\n",
       "      <td>SEATTLE</td>\n",
       "      <td>98103</td>\n",
       "      <td>(206) 491-4694</td>\n",
       "      <td>-122.334587</td>\n",
       "      <td>47.648180</td>\n",
       "      <td>...</td>\n",
       "      <td>0.0</td>\n",
       "      <td>Satisfactory</td>\n",
       "      <td>False</td>\n",
       "      <td>NaN</td>\n",
       "      <td>NaN</td>\n",
       "      <td>0</td>\n",
       "      <td>PR0046367</td>\n",
       "      <td>DATSWIPUS</td>\n",
       "      <td>NaN</td>\n",
       "      <td>2.0</td>\n",
       "    </tr>\n",
       "  </tbody>\n",
       "</table>\n",
       "<p>5 rows × 22 columns</p>\n",
       "</div>"
      ],
      "text/plain": [
       "               Name Program_Identifier Inspection_Date  \\\n",
       "0  #807 TUTTA BELLA   #807 TUTTA BELLA      08/31/2022   \n",
       "1  #807 TUTTA BELLA   #807 TUTTA BELLA      08/31/2022   \n",
       "2  #807 TUTTA BELLA   #807 TUTTA BELLA      01/13/2022   \n",
       "3  #807 TUTTA BELLA   #807 TUTTA BELLA      01/06/2021   \n",
       "4         +MAS CAFE          +MAS CAFE      07/13/2022   \n",
       "\n",
       "                        Description          Address     City Zip_Code  \\\n",
       "0  Seating 0-12 - Risk Category III  2746 NE 45TH ST  SEATTLE    98105   \n",
       "1  Seating 0-12 - Risk Category III  2746 NE 45TH ST  SEATTLE    98105   \n",
       "2  Seating 0-12 - Risk Category III  2746 NE 45TH ST  SEATTLE    98105   \n",
       "3  Seating 0-12 - Risk Category III  2746 NE 45TH ST  SEATTLE    98105   \n",
       "4  Seating 0-12 - Risk Category III  1906 N 34TH ST   SEATTLE    98103   \n",
       "\n",
       "            Phone   Longitude   Latitude  ... Inspection_Score  \\\n",
       "0  (206) 722-6400 -122.296415  47.662311  ...             10.0   \n",
       "1  (206) 722-6400 -122.296415  47.662311  ...             10.0   \n",
       "2  (206) 722-6400 -122.296415  47.662311  ...              0.0   \n",
       "3  (206) 722-6400 -122.296415  47.662311  ...              0.0   \n",
       "4  (206) 491-4694 -122.334587  47.648180  ...              0.0   \n",
       "\n",
       "  Inspection_Result  Inspection_Closed_Business Violation_Type  \\\n",
       "0    Unsatisfactory                       False           BLUE   \n",
       "1    Unsatisfactory                       False            RED   \n",
       "2      Satisfactory                       False            NaN   \n",
       "3      Satisfactory                       False            NaN   \n",
       "4      Satisfactory                       False            NaN   \n",
       "\n",
       "                               Violation_Description Violation_Points  \\\n",
       "0  3200 - Insects, rodents, animals not present; ...                5   \n",
       "1  0200 - Food Worker Cards current for all food ...                5   \n",
       "2                                                NaN                0   \n",
       "3                                                NaN                0   \n",
       "4                                                NaN                0   \n",
       "\n",
       "  Business_ID  Inspection_Serial_Num Violation_Record_ID Grade  \n",
       "0   PR0089260              DAEEWQC0L           IVQ7QYW2V   1.0  \n",
       "1   PR0089260              DAEEWQC0L           IV0J437H6   1.0  \n",
       "2   PR0089260              DAWWGK08K                 NaN   1.0  \n",
       "3   PR0089260              DAUHM2FT8                 NaN   1.0  \n",
       "4   PR0046367              DATSWIPUS                 NaN   2.0  \n",
       "\n",
       "[5 rows x 22 columns]"
      ]
     },
     "execution_count": 162,
     "metadata": {},
     "output_type": "execute_result"
    }
   ],
   "source": [
    "df1=pd.read_csv('Food_Establishment_Inspection_Data(1).csv')\n",
    "df1.columns = df1.columns.str.replace(' ', '_')\n",
    "df1.head()"
   ]
  },
  {
   "cell_type": "code",
   "execution_count": 163,
   "metadata": {
    "colab": {
     "base_uri": "https://localhost:8080/",
     "height": 0
    },
    "id": "_Gzpgrgkf_NM",
    "outputId": "d8758aba-8e64-4eb8-e1ce-f708a04c7255"
   },
   "outputs": [
    {
     "data": {
      "text/plain": [
       "Name                           object\n",
       "Program_Identifier             object\n",
       "Inspection_Date                object\n",
       "Description                    object\n",
       "Address                        object\n",
       "City                           object\n",
       "Zip_Code                       object\n",
       "Phone                          object\n",
       "Longitude                     float64\n",
       "Latitude                      float64\n",
       "Inspection_Business_Name       object\n",
       "Inspection_Type                object\n",
       "Inspection_Score              float64\n",
       "Inspection_Result              object\n",
       "Inspection_Closed_Business     object\n",
       "Violation_Type                 object\n",
       "Violation_Description          object\n",
       "Violation_Points                int64\n",
       "Business_ID                    object\n",
       "Inspection_Serial_Num          object\n",
       "Violation_Record_ID            object\n",
       "Grade                         float64\n",
       "dtype: object"
      ]
     },
     "execution_count": 163,
     "metadata": {},
     "output_type": "execute_result"
    }
   ],
   "source": [
    "df1.dtypes"
   ]
  },
  {
   "cell_type": "markdown",
   "metadata": {
    "id": "0Ilart4VjcKP"
   },
   "source": [
    "# حذف ستون های بدون کاربرد\n",
    "'Program Identifier','Address','Phone','Business_ID','Violation_Record_ID','Zip Code','Inspection_Serial_Num'"
   ]
  },
  {
   "cell_type": "code",
   "execution_count": 164,
   "metadata": {
    "colab": {
     "base_uri": "https://localhost:8080/",
     "height": 531
    },
    "id": "miZ-quHwf_NN",
    "outputId": "a36dd2ff-d49c-4be7-8317-96da123ecf33"
   },
   "outputs": [
    {
     "data": {
      "text/plain": [
       "(250363, 14)"
      ]
     },
     "execution_count": 164,
     "metadata": {},
     "output_type": "execute_result"
    }
   ],
   "source": [
    "#Dropping unusable columns and save to df2\n",
    "df2=df1.drop(['Program_Identifier','Address','Phone','Business_ID','Violation_Record_ID','Zip_Code','Inspection_Business_Name','Inspection_Serial_Num'],axis='columns')\n",
    "df2.shape"
   ]
  },
  {
   "cell_type": "markdown",
   "metadata": {
    "id": "y9UXCLyKkLYh"
   },
   "source": [
    "# پیدا کردن نول ها\n"
   ]
  },
  {
   "cell_type": "code",
   "execution_count": 165,
   "metadata": {
    "colab": {
     "base_uri": "https://localhost:8080/",
     "height": 0
    },
    "id": "BjesEVaJf_NO",
    "outputId": "7423e9ca-2fab-4b09-d3a2-c51b139791a0"
   },
   "outputs": [
    {
     "data": {
      "text/plain": [
       "Name                               0\n",
       "Inspection_Date                  764\n",
       "Description                        0\n",
       "City                               0\n",
       "Longitude                        331\n",
       "Latitude                         331\n",
       "Inspection_Type                  764\n",
       "Inspection_Score                 805\n",
       "Inspection_Result                764\n",
       "Inspection_Closed_Business       764\n",
       "Violation_Type                111419\n",
       "Violation_Description         111419\n",
       "Violation_Points                   0\n",
       "Grade                          59503\n",
       "dtype: int64"
      ]
     },
     "execution_count": 165,
     "metadata": {},
     "output_type": "execute_result"
    }
   ],
   "source": [
    "df2.isna().sum()"
   ]
  },
  {
   "cell_type": "code",
   "execution_count": 166,
   "metadata": {},
   "outputs": [
    {
     "data": {
      "text/plain": [
       "0         False\n",
       "1         False\n",
       "2         False\n",
       "3         False\n",
       "4         False\n",
       "          ...  \n",
       "250358    False\n",
       "250359    False\n",
       "250360    False\n",
       "250361    False\n",
       "250362    False\n",
       "Length: 250363, dtype: bool"
      ]
     },
     "execution_count": 166,
     "metadata": {},
     "output_type": "execute_result"
    }
   ],
   "source": [
    "#De-Duplicate\n",
    "df2.duplicated()"
   ]
  },
  {
   "cell_type": "markdown",
   "metadata": {},
   "source": [
    "# drop duplicated"
   ]
  },
  {
   "cell_type": "code",
   "execution_count": 167,
   "metadata": {},
   "outputs": [
    {
     "data": {
      "text/plain": [
       "(250363, 14)"
      ]
     },
     "execution_count": 167,
     "metadata": {},
     "output_type": "execute_result"
    }
   ],
   "source": [
    "df2.drop_duplicates(subset=None, keep='first', inplace=False, ignore_index=False)\n",
    "df2.shape\n"
   ]
  },
  {
   "cell_type": "markdown",
   "metadata": {
    "id": "8rle6LbtkWRG"
   },
   "source": [
    "# پیداکردن ستون هایی که بیشترین مقدار نول در انها موجود است"
   ]
  },
  {
   "cell_type": "code",
   "execution_count": 168,
   "metadata": {},
   "outputs": [],
   "source": [
    "# % of values missing in each column\n",
    "values_list = list()\n",
    "cols_list = list()\n",
    "for col in df2.columns:\n",
    "    pct_missing = np.mean(df2[col].isnull())*100\n",
    "    cols_list.append(col)\n",
    "    values_list.append(pct_missing)\n",
    "pct_missing_df = pd.DataFrame()\n",
    "pct_missing_df['col'] = cols_list\n",
    "pct_missing_df['pct_missing'] = values_list"
   ]
  },
  {
   "cell_type": "code",
   "execution_count": 169,
   "metadata": {},
   "outputs": [
    {
     "data": {
      "image/png": "[encoded data removed]",
      "text/plain": [
       "<Figure size 864x576 with 1 Axes>"
      ]
     },
     "metadata": {
      "needs_background": "light"
     },
     "output_type": "display_data"
    }
   ],
   "source": [
    "pct_missing_df.loc[pct_missing_df.pct_missing > 0].plot(kind='bar', figsize=(12,8))\n",
    "plt.show()\n",
    "#در این پلات درصد مقادیر از دست رفته در هر ستون به همراه نام ستون نمایش داده شده است."
   ]
  },
  {
   "cell_type": "markdown",
   "metadata": {},
   "source": [
    "واضح است که برخی از ستون ها مقادیر بسیار کمی از دست داده اند، در حالی که ستون ها ی 10 11 13 درصد قابل توجهی مقادیر از دست رفته دارند"
   ]
  },
  {
   "cell_type": "code",
   "execution_count": 170,
   "metadata": {
    "colab": {
     "base_uri": "https://localhost:8080/",
     "height": 461
    },
    "id": "j6vGjF3tf_NP",
    "outputId": "9d2c9010-766a-410d-ffbc-e0fa848ec930"
   },
   "outputs": [
    {
     "data": {
      "text/plain": [
       "(889, 14)"
      ]
     },
     "execution_count": 170,
     "metadata": {},
     "output_type": "execute_result"
    }
   ],
   "source": [
    "#پیدا کردن سطرهایی که بیشتر از سه مورد نول در انها وجود دارد\n",
    "df3=df2[df2.isna().sum(axis=1)>3]\n",
    "df3.shape"
   ]
  },
  {
   "cell_type": "code",
   "execution_count": 171,
   "metadata": {
    "id": "xTJr870lf_NQ"
   },
   "outputs": [],
   "source": [
    "#در این جا فقط سطرهایی که ستون دیتا ان ها دارای مقدار نول است پاک شده است چون بازرسی صورت نگرفته بنابراین اطلاعاتی نخواهیم داشت در باقی ستون ها\n",
    "df3 = df2.dropna( how='all',subset= ['Inspection_Date'])"
   ]
  },
  {
   "cell_type": "code",
   "execution_count": 172,
   "metadata": {},
   "outputs": [
    {
     "data": {
      "text/plain": [
       "False    248880\n",
       "True        719\n",
       "Name: Inspection_Closed_Business, dtype: int64"
      ]
     },
     "execution_count": 172,
     "metadata": {},
     "output_type": "execute_result"
    }
   ],
   "source": [
    "df1['Inspection_Closed_Business'].value_counts()"
   ]
  },
  {
   "cell_type": "markdown",
   "metadata": {
    "id": "1PSL3OEF-OJk"
   },
   "source": [
    "# بعد از مرحله هفتم تعداد ستون هایی که دارای نول هستند بسیار کم شد و در مرحله بعد به پر کردن انها میپردازیم"
   ]
  },
  {
   "cell_type": "code",
   "execution_count": 173,
   "metadata": {
    "colab": {
     "base_uri": "https://localhost:8080/",
     "height": 0
    },
    "id": "D519NunEf_NS",
    "outputId": "d6a10364-ac3e-4fbb-e970-73f6432ea55f"
   },
   "outputs": [
    {
     "data": {
      "text/plain": [
       "Name                               0\n",
       "Inspection_Date                    0\n",
       "Description                        0\n",
       "City                               0\n",
       "Longitude                        168\n",
       "Latitude                         168\n",
       "Inspection_Type                    0\n",
       "Inspection_Score                  41\n",
       "Inspection_Result                  0\n",
       "Inspection_Closed_Business         0\n",
       "Violation_Type                110655\n",
       "Violation_Description         110655\n",
       "Violation_Points                   0\n",
       "Grade                          58899\n",
       "dtype: int64"
      ]
     },
     "execution_count": 173,
     "metadata": {},
     "output_type": "execute_result"
    }
   ],
   "source": [
    "df3.isna().sum()"
   ]
  },
  {
   "cell_type": "markdown",
   "metadata": {
    "id": "2zVDtpsTktyo"
   },
   "source": [
    "# پرکردن موردهای نول در ستون های مربوطه"
   ]
  },
  {
   "cell_type": "markdown",
   "metadata": {
    "id": "WankBV3L-rtv"
   },
   "source": [
    "# 1.FILL INSPECTON SCORE COLUMN\n",
    "1.Inspection Result     \n",
    "2.Inspection Score                \n",
    "در این جا یک بررسی در مورد ستون های 1 و2 داشتیم تا یه دید کلی به دست بیاد\n",
    "به این صورت که روی ستون 1 بر اساس ستون 2 یک میانگین گرفته شده تا یک امتیاز بندی براساس میزان رضایت داشته باشیم"
   ]
  },
  {
   "cell_type": "code",
   "execution_count": 174,
   "metadata": {
    "colab": {
     "base_uri": "https://localhost:8080/",
     "height": 312
    },
    "id": "QPs2I8W4f_NT",
    "outputId": "e82dcdaa-6c82-4ec0-cc03-1454f202c3c3"
   },
   "outputs": [
    {
     "data": {
      "image/png": "[encoded data removed]",
      "text/plain": [
       "<Figure size 1440x216 with 1 Axes>"
      ]
     },
     "metadata": {
      "needs_background": "light"
     },
     "output_type": "display_data"
    }
   ],
   "source": [
    "#we should fill nan value in inspection Score,,Violation type,,Violation description,,Grade\n",
    "#INSPECTION SCORE:the type of its is float so we should fill it with numbers\n",
    "df_mean=np.round(df3.groupby(['Inspection_Result']).agg({'Inspection_Score':'mean'}))\n",
    "feature_data = df_mean.index\n",
    "feature_count=df_mean['Inspection_Score']\n",
    "plt.figure(figsize = (20,3))\n",
    "plt.bar(feature_data,feature_count)\n",
    "plt.xticks(feature_count.index, feature_count.index.values,rotation=45)\n",
    "plt.ylabel(\"Frequency\")\n",
    "plt.title('Inspection Score')\n",
    "plt.show()\n"
   ]
  },
  {
   "cell_type": "markdown",
   "metadata": {
    "id": "0QiXqQSIFxTx"
   },
   "source": [
    "در این جا مورد های satisfactory , complete هم دارای امتیاز تخلف هستند بنابراین نمیتوان مقدار انها را صرفا صفر در نظر گرفت"
   ]
  },
  {
   "cell_type": "markdown",
   "metadata": {
    "id": "ujtQFAkT_9BR"
   },
   "source": [
    "# پیدا کردن ایندکس های دارای مورد نول"
   ]
  },
  {
   "cell_type": "code",
   "execution_count": 175,
   "metadata": {
    "colab": {
     "base_uri": "https://localhost:8080/",
     "height": 0
    },
    "id": "knyzWG4E_6CR",
    "outputId": "5ae2d1bc-65c2-401c-a930-0aa6c10e7a8e"
   },
   "outputs": [
    {
     "data": {
      "text/plain": [
       "Int64Index([ 10757,  14162,  22771,  29326,  38837,  45572,  54449,  74373,\n",
       "             74574,  75205,  75805,  91788,  91792,  93597,  93598, 111189,\n",
       "            111959, 122621, 141214, 145134, 148153, 157681, 162282, 163565,\n",
       "            175389, 175795, 176620, 189360, 191382, 192824, 192825, 192879,\n",
       "            204312, 205514, 220525, 224477, 224478, 224479, 224869, 234752,\n",
       "            238880],\n",
       "           dtype='int64')"
      ]
     },
     "execution_count": 175,
     "metadata": {},
     "output_type": "execute_result"
    }
   ],
   "source": [
    "idx1=df3[df3[\"Inspection_Score\"].isnull()].index\n",
    "idx1"
   ]
  },
  {
   "cell_type": "markdown",
   "metadata": {
    "id": "9nklcXSFAKUA"
   },
   "source": [
    "در این جا ستون 2 بر اساس میانگین نمرات طبق ستون 1 بر اساس میزان رضایت پر شده "
   ]
  },
  {
   "cell_type": "code",
   "execution_count": 176,
   "metadata": {
    "id": "0kMS95YFAJd6",
    "scrolled": true
   },
   "outputs": [
    {
     "name": "stderr",
     "output_type": "stream",
     "text": [
      "C:\\Users\\Sara Safi\\anaconda3\\lib\\site-packages\\pandas\\core\\indexing.py:1745: SettingWithCopyWarning: \n",
      "A value is trying to be set on a copy of a slice from a DataFrame.\n",
      "Try using .loc[row_indexer,col_indexer] = value instead\n",
      "\n",
      "See the caveats in the documentation: https://pandas.pydata.org/pandas-docs/stable/user_guide/indexing.html#returning-a-view-versus-a-copy\n",
      "  isetter(ilocs[0], value)\n"
     ]
    }
   ],
   "source": [
    "df3.loc[:,('Inspection_Score')] =np.round( df3.groupby(['Inspection_Result'])['Inspection_Score']\n",
    "                     .apply(lambda x: x.fillna(x.mean())))"
   ]
  },
  {
   "cell_type": "code",
   "execution_count": 177,
   "metadata": {
    "colab": {
     "base_uri": "https://localhost:8080/",
     "height": 513
    },
    "id": "uvRLW4P_AxkO",
    "outputId": "9a8b88c0-448f-47db-b6d6-ae0c6496c6dc",
    "scrolled": true
   },
   "outputs": [
    {
     "data": {
      "text/html": [
       "<div>\n",
       "<style scoped>\n",
       "    .dataframe tbody tr th:only-of-type {\n",
       "        vertical-align: middle;\n",
       "    }\n",
       "\n",
       "    .dataframe tbody tr th {\n",
       "        vertical-align: top;\n",
       "    }\n",
       "\n",
       "    .dataframe thead th {\n",
       "        text-align: right;\n",
       "    }\n",
       "</style>\n",
       "<table border=\"1\" class=\"dataframe\">\n",
       "  <thead>\n",
       "    <tr style=\"text-align: right;\">\n",
       "      <th></th>\n",
       "      <th>Name</th>\n",
       "      <th>Inspection_Date</th>\n",
       "      <th>Description</th>\n",
       "      <th>City</th>\n",
       "      <th>Longitude</th>\n",
       "      <th>Latitude</th>\n",
       "      <th>Inspection_Type</th>\n",
       "      <th>Inspection_Score</th>\n",
       "      <th>Inspection_Result</th>\n",
       "      <th>Inspection_Closed_Business</th>\n",
       "      <th>Violation_Type</th>\n",
       "      <th>Violation_Description</th>\n",
       "      <th>Violation_Points</th>\n",
       "      <th>Grade</th>\n",
       "    </tr>\n",
       "  </thead>\n",
       "  <tbody>\n",
       "    <tr>\n",
       "      <th>10757</th>\n",
       "      <td>ANTHONY'S HOME PORT</td>\n",
       "      <td>10/06/2008</td>\n",
       "      <td>Seating &gt; 250 - Risk Category III</td>\n",
       "      <td>Kirkland</td>\n",
       "      <td>-122.206124</td>\n",
       "      <td>47.674172</td>\n",
       "      <td>Routine Inspection/Field Review</td>\n",
       "      <td>2.0</td>\n",
       "      <td>Satisfactory</td>\n",
       "      <td>False</td>\n",
       "      <td>NaN</td>\n",
       "      <td>NaN</td>\n",
       "      <td>0</td>\n",
       "      <td>1.0</td>\n",
       "    </tr>\n",
       "    <tr>\n",
       "      <th>14162</th>\n",
       "      <td>ATHENIAN INN</td>\n",
       "      <td>06/26/2007</td>\n",
       "      <td>Seating 151-250 - Risk Category III</td>\n",
       "      <td>SEATTLE</td>\n",
       "      <td>-122.340882</td>\n",
       "      <td>47.608694</td>\n",
       "      <td>Consultation/Education - Field</td>\n",
       "      <td>1.0</td>\n",
       "      <td>Complete</td>\n",
       "      <td>False</td>\n",
       "      <td>NaN</td>\n",
       "      <td>NaN</td>\n",
       "      <td>0</td>\n",
       "      <td>2.0</td>\n",
       "    </tr>\n",
       "    <tr>\n",
       "      <th>22771</th>\n",
       "      <td>BETHEL CHRISTIAN CENTER</td>\n",
       "      <td>05/05/2008</td>\n",
       "      <td>Non-Profit Institution - Risk Category III</td>\n",
       "      <td>FEDERAL WAY</td>\n",
       "      <td>-122.341099</td>\n",
       "      <td>47.323437</td>\n",
       "      <td>Consultation/Education - Field</td>\n",
       "      <td>1.0</td>\n",
       "      <td>Complete</td>\n",
       "      <td>False</td>\n",
       "      <td>NaN</td>\n",
       "      <td>NaN</td>\n",
       "      <td>0</td>\n",
       "      <td>NaN</td>\n",
       "    </tr>\n",
       "    <tr>\n",
       "      <th>29326</th>\n",
       "      <td>BRYANT ELEMENTARY SCHOOL</td>\n",
       "      <td>10/06/2008</td>\n",
       "      <td>School Lunch Program - Risk II</td>\n",
       "      <td>Seattle</td>\n",
       "      <td>-122.292005</td>\n",
       "      <td>47.671515</td>\n",
       "      <td>Routine Inspection/Field Review</td>\n",
       "      <td>2.0</td>\n",
       "      <td>Satisfactory</td>\n",
       "      <td>False</td>\n",
       "      <td>NaN</td>\n",
       "      <td>NaN</td>\n",
       "      <td>0</td>\n",
       "      <td>NaN</td>\n",
       "    </tr>\n",
       "    <tr>\n",
       "      <th>38837</th>\n",
       "      <td>CHAUTAUQUA ELEMENTARY</td>\n",
       "      <td>03/26/2007</td>\n",
       "      <td>School Lunch Program - Risk II</td>\n",
       "      <td>VASHON ISLAND</td>\n",
       "      <td>-122.452360</td>\n",
       "      <td>47.427607</td>\n",
       "      <td>Routine Inspection/Field Review</td>\n",
       "      <td>2.0</td>\n",
       "      <td>Satisfactory</td>\n",
       "      <td>False</td>\n",
       "      <td>NaN</td>\n",
       "      <td>NaN</td>\n",
       "      <td>0</td>\n",
       "      <td>NaN</td>\n",
       "    </tr>\n",
       "  </tbody>\n",
       "</table>\n",
       "</div>"
      ],
      "text/plain": [
       "                           Name Inspection_Date  \\\n",
       "10757       ANTHONY'S HOME PORT      10/06/2008   \n",
       "14162              ATHENIAN INN      06/26/2007   \n",
       "22771   BETHEL CHRISTIAN CENTER      05/05/2008   \n",
       "29326  BRYANT ELEMENTARY SCHOOL      10/06/2008   \n",
       "38837     CHAUTAUQUA ELEMENTARY      03/26/2007   \n",
       "\n",
       "                                      Description           City   Longitude  \\\n",
       "10757           Seating > 250 - Risk Category III       Kirkland -122.206124   \n",
       "14162         Seating 151-250 - Risk Category III        SEATTLE -122.340882   \n",
       "22771  Non-Profit Institution - Risk Category III    FEDERAL WAY -122.341099   \n",
       "29326              School Lunch Program - Risk II        Seattle -122.292005   \n",
       "38837              School Lunch Program - Risk II  VASHON ISLAND -122.452360   \n",
       "\n",
       "        Latitude                  Inspection_Type  Inspection_Score  \\\n",
       "10757  47.674172  Routine Inspection/Field Review               2.0   \n",
       "14162  47.608694   Consultation/Education - Field               1.0   \n",
       "22771  47.323437   Consultation/Education - Field               1.0   \n",
       "29326  47.671515  Routine Inspection/Field Review               2.0   \n",
       "38837  47.427607  Routine Inspection/Field Review               2.0   \n",
       "\n",
       "      Inspection_Result Inspection_Closed_Business Violation_Type  \\\n",
       "10757      Satisfactory                      False            NaN   \n",
       "14162          Complete                      False            NaN   \n",
       "22771          Complete                      False            NaN   \n",
       "29326      Satisfactory                      False            NaN   \n",
       "38837      Satisfactory                      False            NaN   \n",
       "\n",
       "      Violation_Description  Violation_Points  Grade  \n",
       "10757                   NaN                 0    1.0  \n",
       "14162                   NaN                 0    2.0  \n",
       "22771                   NaN                 0    NaN  \n",
       "29326                   NaN                 0    NaN  \n",
       "38837                   NaN                 0    NaN  "
      ]
     },
     "execution_count": 177,
     "metadata": {},
     "output_type": "execute_result"
    }
   ],
   "source": [
    "df3.loc[idx1].head()"
   ]
  },
  {
   "cell_type": "markdown",
   "metadata": {
    "id": "xMrPf5FRAzWW"
   },
   "source": [
    "# FILL VIOLATION TYPE COLUMN\n",
    "1.Violation type      \n",
    "2.Inspection score   \n",
    "3.Violation_Description\n",
    "در این جا بررسی شده که مجموع امتیاز های نارضایتی چه نوع کارتی را بیشتر دریافت کردند یعنی بیشتر رستوران ها چه نوع کارتی دریافت کردند"
   ]
  },
  {
   "cell_type": "code",
   "execution_count": 178,
   "metadata": {
    "colab": {
     "base_uri": "https://localhost:8080/",
     "height": 242
    },
    "id": "zlrPXc1qf_NV",
    "outputId": "b25d7d00-d049-4b73-ae2d-fd504fd27e2d"
   },
   "outputs": [
    {
     "data": {
      "image/png": "[encoded data removed]",
      "text/plain": [
       "<Figure size 1440x216 with 1 Axes>"
      ]
     },
     "metadata": {
      "needs_background": "light"
     },
     "output_type": "display_data"
    }
   ],
   "source": [
    "#violation type Nan values\n",
    "idx2=df3[df3[\"Violation_Type\"].isnull()].index\n",
    "df_mean=np.round(df3.groupby(['Violation_Type']).agg({'Inspection_Score':'mean'}))\n",
    "    \n",
    "feature_data = df_mean.index\n",
    "feature_count=df_mean['Inspection_Score']\n",
    "\n",
    "plt.figure(figsize = (20,3))\n",
    "plt.bar(feature_data,feature_count)\n",
    "plt.xticks(feature_count.index, feature_count.index.values,rotation=45)\n",
    "plt.ylabel(\"Frequency\")\n",
    "plt.title('Violation Type')\n",
    "plt.show()"
   ]
  },
  {
   "cell_type": "code",
   "execution_count": 179,
   "metadata": {
    "colab": {
     "base_uri": "https://localhost:8080/",
     "height": 0
    },
    "id": "r78ikfKkBi_3",
    "outputId": "77126baf-4395-44e2-f919-dd4158a09360"
   },
   "outputs": [
    {
     "data": {
      "text/plain": [
       "Int64Index([     2,      3,      4,     10,     11,     13,     14,     19,\n",
       "                20,     29,\n",
       "            ...\n",
       "            250345, 250346, 250347, 250348, 250349, 250357, 250358, 250359,\n",
       "            250360, 250361],\n",
       "           dtype='int64', length=110655)"
      ]
     },
     "execution_count": 179,
     "metadata": {},
     "output_type": "execute_result"
    }
   ],
   "source": [
    "idx2=df3[df3[\"Violation_Type\"].isnull()].index\n",
    "idx2"
   ]
  },
  {
   "cell_type": "markdown",
   "metadata": {
    "id": "ZHBlGbkNBrUk"
   },
   "source": [
    "# از آنجایی که تعداد مقادیرنول ستون تایپ 1 و3 یکسان هستند به این معنی میباشد که رستوران تخلف مشخصی انجام نداده که باعث شود کارتی دریافت کند بنابراین این ستون را با مقدار (No_card) پر میکنیم"
   ]
  },
  {
   "cell_type": "code",
   "execution_count": 180,
   "metadata": {
    "colab": {
     "base_uri": "https://localhost:8080/",
     "height": 388
    },
    "id": "vH494XQHBoOJ",
    "outputId": "08fbd032-e8be-4a12-cd1a-07d3f54e9716"
   },
   "outputs": [
    {
     "name": "stderr",
     "output_type": "stream",
     "text": [
      "C:\\Users\\Sara Safi\\anaconda3\\lib\\site-packages\\pandas\\core\\indexing.py:1745: SettingWithCopyWarning: \n",
      "A value is trying to be set on a copy of a slice from a DataFrame.\n",
      "Try using .loc[row_indexer,col_indexer] = value instead\n",
      "\n",
      "See the caveats in the documentation: https://pandas.pydata.org/pandas-docs/stable/user_guide/indexing.html#returning-a-view-versus-a-copy\n",
      "  isetter(ilocs[0], value)\n"
     ]
    },
    {
     "data": {
      "text/html": [
       "<div>\n",
       "<style scoped>\n",
       "    .dataframe tbody tr th:only-of-type {\n",
       "        vertical-align: middle;\n",
       "    }\n",
       "\n",
       "    .dataframe tbody tr th {\n",
       "        vertical-align: top;\n",
       "    }\n",
       "\n",
       "    .dataframe thead th {\n",
       "        text-align: right;\n",
       "    }\n",
       "</style>\n",
       "<table border=\"1\" class=\"dataframe\">\n",
       "  <thead>\n",
       "    <tr style=\"text-align: right;\">\n",
       "      <th></th>\n",
       "      <th>Name</th>\n",
       "      <th>Inspection_Date</th>\n",
       "      <th>Description</th>\n",
       "      <th>City</th>\n",
       "      <th>Longitude</th>\n",
       "      <th>Latitude</th>\n",
       "      <th>Inspection_Type</th>\n",
       "      <th>Inspection_Score</th>\n",
       "      <th>Inspection_Result</th>\n",
       "      <th>Inspection_Closed_Business</th>\n",
       "      <th>Violation_Type</th>\n",
       "      <th>Violation_Description</th>\n",
       "      <th>Violation_Points</th>\n",
       "      <th>Grade</th>\n",
       "    </tr>\n",
       "  </thead>\n",
       "  <tbody>\n",
       "    <tr>\n",
       "      <th>2</th>\n",
       "      <td>#807 TUTTA BELLA</td>\n",
       "      <td>01/13/2022</td>\n",
       "      <td>Seating 0-12 - Risk Category III</td>\n",
       "      <td>SEATTLE</td>\n",
       "      <td>-122.296415</td>\n",
       "      <td>47.662311</td>\n",
       "      <td>Routine Inspection/Field Review</td>\n",
       "      <td>0.0</td>\n",
       "      <td>Satisfactory</td>\n",
       "      <td>False</td>\n",
       "      <td>No_card</td>\n",
       "      <td>NaN</td>\n",
       "      <td>0</td>\n",
       "      <td>1.0</td>\n",
       "    </tr>\n",
       "    <tr>\n",
       "      <th>3</th>\n",
       "      <td>#807 TUTTA BELLA</td>\n",
       "      <td>01/06/2021</td>\n",
       "      <td>Seating 0-12 - Risk Category III</td>\n",
       "      <td>SEATTLE</td>\n",
       "      <td>-122.296415</td>\n",
       "      <td>47.662311</td>\n",
       "      <td>Routine Inspection/Field Review</td>\n",
       "      <td>0.0</td>\n",
       "      <td>Satisfactory</td>\n",
       "      <td>False</td>\n",
       "      <td>No_card</td>\n",
       "      <td>NaN</td>\n",
       "      <td>0</td>\n",
       "      <td>1.0</td>\n",
       "    </tr>\n",
       "  </tbody>\n",
       "</table>\n",
       "</div>"
      ],
      "text/plain": [
       "               Name Inspection_Date                       Description  \\\n",
       "2  #807 TUTTA BELLA      01/13/2022  Seating 0-12 - Risk Category III   \n",
       "3  #807 TUTTA BELLA      01/06/2021  Seating 0-12 - Risk Category III   \n",
       "\n",
       "      City   Longitude   Latitude                  Inspection_Type  \\\n",
       "2  SEATTLE -122.296415  47.662311  Routine Inspection/Field Review   \n",
       "3  SEATTLE -122.296415  47.662311  Routine Inspection/Field Review   \n",
       "\n",
       "   Inspection_Score Inspection_Result Inspection_Closed_Business  \\\n",
       "2               0.0      Satisfactory                      False   \n",
       "3               0.0      Satisfactory                      False   \n",
       "\n",
       "  Violation_Type Violation_Description  Violation_Points  Grade  \n",
       "2        No_card                   NaN                 0    1.0  \n",
       "3        No_card                   NaN                 0    1.0  "
      ]
     },
     "execution_count": 180,
     "metadata": {},
     "output_type": "execute_result"
    }
   ],
   "source": [
    "df3.loc[:,('Violation_Type')] =df3['Violation_Type'].fillna(\"No_card\")\n",
    "df3.loc[idx2].head(2)"
   ]
  },
  {
   "cell_type": "markdown",
   "metadata": {
    "id": "2kBKbYjAC22g"
   },
   "source": [
    "# FILL VIOLATION DESCRIPTION\n",
    "1.Violation type      \n",
    "2.Inspection score   \n",
    "3.Violation_Descriptione            "
   ]
  },
  {
   "cell_type": "code",
   "execution_count": 181,
   "metadata": {},
   "outputs": [
    {
     "data": {
      "text/plain": [
       "Int64Index([     2,      3,      4,     10,     11,     13,     14,     19,\n",
       "                20,     29,\n",
       "            ...\n",
       "            250345, 250346, 250347, 250348, 250349, 250357, 250358, 250359,\n",
       "            250360, 250361],\n",
       "           dtype='int64', length=110655)"
      ]
     },
     "execution_count": 181,
     "metadata": {},
     "output_type": "execute_result"
    }
   ],
   "source": [
    "idx3=df3[df3[\"Violation_Description\"].isnull()].index\n",
    "idx3"
   ]
  },
  {
   "cell_type": "markdown",
   "metadata": {
    "id": "F2qrKze4DuoR"
   },
   "source": [
    "# از آنجایی که تعداد مقادیرنول ستون تایپ 1 و3 یکسان هستند به این معنی میباشد که رستوران تخلف مشخصی انجام نداده که باعث شود کارتی دریافت کند بنابراین این ستون را با مقدار(No_violation ) پر میکنیم"
   ]
  },
  {
   "cell_type": "code",
   "execution_count": 182,
   "metadata": {
    "colab": {
     "base_uri": "https://localhost:8080/",
     "height": 388
    },
    "id": "VTRNF8iQf_NX",
    "outputId": "9ff179bd-ea41-4103-ed45-664ea7ed9032"
   },
   "outputs": [
    {
     "name": "stderr",
     "output_type": "stream",
     "text": [
      "<ipython-input-182-6de6a4df2f97>:2: SettingWithCopyWarning: \n",
      "A value is trying to be set on a copy of a slice from a DataFrame.\n",
      "Try using .loc[row_indexer,col_indexer] = value instead\n",
      "\n",
      "See the caveats in the documentation: https://pandas.pydata.org/pandas-docs/stable/user_guide/indexing.html#returning-a-view-versus-a-copy\n",
      "  df3['Violation_Description'] = df3['Violation_Description'].fillna(\"No_violation\")\n"
     ]
    },
    {
     "data": {
      "text/html": [
       "<div>\n",
       "<style scoped>\n",
       "    .dataframe tbody tr th:only-of-type {\n",
       "        vertical-align: middle;\n",
       "    }\n",
       "\n",
       "    .dataframe tbody tr th {\n",
       "        vertical-align: top;\n",
       "    }\n",
       "\n",
       "    .dataframe thead th {\n",
       "        text-align: right;\n",
       "    }\n",
       "</style>\n",
       "<table border=\"1\" class=\"dataframe\">\n",
       "  <thead>\n",
       "    <tr style=\"text-align: right;\">\n",
       "      <th></th>\n",
       "      <th>Name</th>\n",
       "      <th>Inspection_Date</th>\n",
       "      <th>Description</th>\n",
       "      <th>City</th>\n",
       "      <th>Longitude</th>\n",
       "      <th>Latitude</th>\n",
       "      <th>Inspection_Type</th>\n",
       "      <th>Inspection_Score</th>\n",
       "      <th>Inspection_Result</th>\n",
       "      <th>Inspection_Closed_Business</th>\n",
       "      <th>Violation_Type</th>\n",
       "      <th>Violation_Description</th>\n",
       "      <th>Violation_Points</th>\n",
       "      <th>Grade</th>\n",
       "    </tr>\n",
       "  </thead>\n",
       "  <tbody>\n",
       "    <tr>\n",
       "      <th>2</th>\n",
       "      <td>#807 TUTTA BELLA</td>\n",
       "      <td>01/13/2022</td>\n",
       "      <td>Seating 0-12 - Risk Category III</td>\n",
       "      <td>SEATTLE</td>\n",
       "      <td>-122.296415</td>\n",
       "      <td>47.662311</td>\n",
       "      <td>Routine Inspection/Field Review</td>\n",
       "      <td>0.0</td>\n",
       "      <td>Satisfactory</td>\n",
       "      <td>False</td>\n",
       "      <td>No_card</td>\n",
       "      <td>No_violation</td>\n",
       "      <td>0</td>\n",
       "      <td>1.0</td>\n",
       "    </tr>\n",
       "    <tr>\n",
       "      <th>3</th>\n",
       "      <td>#807 TUTTA BELLA</td>\n",
       "      <td>01/06/2021</td>\n",
       "      <td>Seating 0-12 - Risk Category III</td>\n",
       "      <td>SEATTLE</td>\n",
       "      <td>-122.296415</td>\n",
       "      <td>47.662311</td>\n",
       "      <td>Routine Inspection/Field Review</td>\n",
       "      <td>0.0</td>\n",
       "      <td>Satisfactory</td>\n",
       "      <td>False</td>\n",
       "      <td>No_card</td>\n",
       "      <td>No_violation</td>\n",
       "      <td>0</td>\n",
       "      <td>1.0</td>\n",
       "    </tr>\n",
       "  </tbody>\n",
       "</table>\n",
       "</div>"
      ],
      "text/plain": [
       "               Name Inspection_Date                       Description  \\\n",
       "2  #807 TUTTA BELLA      01/13/2022  Seating 0-12 - Risk Category III   \n",
       "3  #807 TUTTA BELLA      01/06/2021  Seating 0-12 - Risk Category III   \n",
       "\n",
       "      City   Longitude   Latitude                  Inspection_Type  \\\n",
       "2  SEATTLE -122.296415  47.662311  Routine Inspection/Field Review   \n",
       "3  SEATTLE -122.296415  47.662311  Routine Inspection/Field Review   \n",
       "\n",
       "   Inspection_Score Inspection_Result Inspection_Closed_Business  \\\n",
       "2               0.0      Satisfactory                      False   \n",
       "3               0.0      Satisfactory                      False   \n",
       "\n",
       "  Violation_Type Violation_Description  Violation_Points  Grade  \n",
       "2        No_card          No_violation                 0    1.0  \n",
       "3        No_card          No_violation                 0    1.0  "
      ]
     },
     "execution_count": 182,
     "metadata": {},
     "output_type": "execute_result"
    }
   ],
   "source": [
    "#in this part we fill violation description with '_'\n",
    "df3['Violation_Description'] = df3['Violation_Description'].fillna(\"No_violation\")\n",
    "df3.loc[idx3].head(2)"
   ]
  },
  {
   "cell_type": "markdown",
   "metadata": {
    "id": "RL_r8ALOEBel"
   },
   "source": [
    "#FILL GRADE COLUMN               \n",
    "در اینجا بررسی شده که کدام درجه دارای امتیاز نارضایتی بیشتر است"
   ]
  },
  {
   "cell_type": "code",
   "execution_count": 183,
   "metadata": {
    "colab": {
     "base_uri": "https://localhost:8080/",
     "height": 233
    },
    "id": "GFuVQFDpf_NY",
    "outputId": "30d2a56d-a00d-4103-891c-6e2fa68173a6"
   },
   "outputs": [
    {
     "data": {
      "image/png": "[encoded data removed]",
      "text/plain": [
       "<Figure size 1440x216 with 1 Axes>"
      ]
     },
     "metadata": {
      "needs_background": "light"
     },
     "output_type": "display_data"
    }
   ],
   "source": [
    "#GRADE\n",
    "df_mean=np.round(df3.groupby(['Grade']).agg({'Inspection_Score':'mean'}))\n",
    "    \n",
    "# get feature\n",
    "feature_data = df_mean.index\n",
    "# count number of data(value/sample)\n",
    "feature_count=df_mean['Inspection_Score']\n",
    "\n",
    "# visualize\n",
    "plt.figure(figsize = (20,3))\n",
    "plt.bar(feature_data,feature_count)\n",
    "plt.xticks(feature_count.index, feature_count.index.values,rotation=90)\n",
    "plt.ylabel(\"Frequency\")\n",
    "plt.title('Inspection Score')\n",
    "plt.show()\n"
   ]
  },
  {
   "cell_type": "code",
   "execution_count": 184,
   "metadata": {
    "colab": {
     "base_uri": "https://localhost:8080/",
     "height": 0
    },
    "id": "PqIRoSBgf_NZ",
    "outputId": "f1949675-ad9f-45c6-a862-08e45a92f02f"
   },
   "outputs": [
    {
     "data": {
      "text/plain": [
       "Int64Index([    48,     49,     50,     51,     52,    365,    366,    419,\n",
       "               530,    531,\n",
       "            ...\n",
       "            250168, 250169, 250170, 250171, 250172, 250173, 250174, 250175,\n",
       "            250176, 250177],\n",
       "           dtype='int64', length=58899)"
      ]
     },
     "execution_count": 184,
     "metadata": {},
     "output_type": "execute_result"
    }
   ],
   "source": [
    "idx=df3[df3[\"Grade\"].isnull()].index\n",
    "idx"
   ]
  },
  {
   "cell_type": "markdown",
   "metadata": {
    "id": "5-FaKup5Erzk"
   },
   "source": [
    "در اینجا بر اساس میانگین های امتیاز تخلف ستون گرید پر شده است"
   ]
  },
  {
   "cell_type": "code",
   "execution_count": 185,
   "metadata": {
    "colab": {
     "base_uri": "https://localhost:8080/",
     "height": 388
    },
    "id": "5vJ5AbxSEh_H",
    "outputId": "75155e7f-5d3a-455f-ccd7-2ce584bc9741"
   },
   "outputs": [
    {
     "name": "stderr",
     "output_type": "stream",
     "text": [
      "C:\\Users\\Sara Safi\\anaconda3\\lib\\site-packages\\pandas\\core\\indexing.py:1745: SettingWithCopyWarning: \n",
      "A value is trying to be set on a copy of a slice from a DataFrame.\n",
      "Try using .loc[row_indexer,col_indexer] = value instead\n",
      "\n",
      "See the caveats in the documentation: https://pandas.pydata.org/pandas-docs/stable/user_guide/indexing.html#returning-a-view-versus-a-copy\n",
      "  isetter(ilocs[0], value)\n"
     ]
    },
    {
     "data": {
      "text/html": [
       "<div>\n",
       "<style scoped>\n",
       "    .dataframe tbody tr th:only-of-type {\n",
       "        vertical-align: middle;\n",
       "    }\n",
       "\n",
       "    .dataframe tbody tr th {\n",
       "        vertical-align: top;\n",
       "    }\n",
       "\n",
       "    .dataframe thead th {\n",
       "        text-align: right;\n",
       "    }\n",
       "</style>\n",
       "<table border=\"1\" class=\"dataframe\">\n",
       "  <thead>\n",
       "    <tr style=\"text-align: right;\">\n",
       "      <th></th>\n",
       "      <th>Name</th>\n",
       "      <th>Inspection_Date</th>\n",
       "      <th>Description</th>\n",
       "      <th>City</th>\n",
       "      <th>Longitude</th>\n",
       "      <th>Latitude</th>\n",
       "      <th>Inspection_Type</th>\n",
       "      <th>Inspection_Score</th>\n",
       "      <th>Inspection_Result</th>\n",
       "      <th>Inspection_Closed_Business</th>\n",
       "      <th>Violation_Type</th>\n",
       "      <th>Violation_Description</th>\n",
       "      <th>Violation_Points</th>\n",
       "      <th>Grade</th>\n",
       "    </tr>\n",
       "  </thead>\n",
       "  <tbody>\n",
       "    <tr>\n",
       "      <th>48</th>\n",
       "      <td>100TH AVE CAKES</td>\n",
       "      <td>06/03/2022</td>\n",
       "      <td>Bakery-no seating - Risk Category II</td>\n",
       "      <td>REDMOND</td>\n",
       "      <td>-122.133729</td>\n",
       "      <td>47.687230</td>\n",
       "      <td>Consultation/Education - Field</td>\n",
       "      <td>0.0</td>\n",
       "      <td>Complete</td>\n",
       "      <td>False</td>\n",
       "      <td>No_card</td>\n",
       "      <td>No_violation</td>\n",
       "      <td>0</td>\n",
       "      <td>1.0</td>\n",
       "    </tr>\n",
       "    <tr>\n",
       "      <th>49</th>\n",
       "      <td>100TH AVE CAKES</td>\n",
       "      <td>04/29/2022</td>\n",
       "      <td>Bakery-no seating - Risk Category II</td>\n",
       "      <td>REDMOND</td>\n",
       "      <td>-122.133729</td>\n",
       "      <td>47.687230</td>\n",
       "      <td>Routine Inspection/Field Review</td>\n",
       "      <td>0.0</td>\n",
       "      <td>Complete</td>\n",
       "      <td>False</td>\n",
       "      <td>No_card</td>\n",
       "      <td>No_violation</td>\n",
       "      <td>0</td>\n",
       "      <td>1.0</td>\n",
       "    </tr>\n",
       "    <tr>\n",
       "      <th>50</th>\n",
       "      <td>100TH AVE CAKES</td>\n",
       "      <td>12/09/2021</td>\n",
       "      <td>Bakery-no seating - Risk Category II</td>\n",
       "      <td>REDMOND</td>\n",
       "      <td>-122.133729</td>\n",
       "      <td>47.687230</td>\n",
       "      <td>Routine Inspection/Field Review</td>\n",
       "      <td>0.0</td>\n",
       "      <td>Satisfactory</td>\n",
       "      <td>False</td>\n",
       "      <td>No_card</td>\n",
       "      <td>No_violation</td>\n",
       "      <td>0</td>\n",
       "      <td>1.0</td>\n",
       "    </tr>\n",
       "    <tr>\n",
       "      <th>51</th>\n",
       "      <td>101 GROCERY</td>\n",
       "      <td>04/14/2022</td>\n",
       "      <td>Grocery Store-no seating - Risk Category I</td>\n",
       "      <td>RENTON</td>\n",
       "      <td>-122.213939</td>\n",
       "      <td>47.476012</td>\n",
       "      <td>Routine Inspection/Field Review</td>\n",
       "      <td>0.0</td>\n",
       "      <td>Satisfactory</td>\n",
       "      <td>False</td>\n",
       "      <td>No_card</td>\n",
       "      <td>No_violation</td>\n",
       "      <td>0</td>\n",
       "      <td>1.0</td>\n",
       "    </tr>\n",
       "    <tr>\n",
       "      <th>52</th>\n",
       "      <td>101 GROCERY</td>\n",
       "      <td>10/11/2021</td>\n",
       "      <td>Grocery Store-no seating - Risk Category I</td>\n",
       "      <td>RENTON</td>\n",
       "      <td>-122.213939</td>\n",
       "      <td>47.476012</td>\n",
       "      <td>Routine Inspection/Field Review</td>\n",
       "      <td>0.0</td>\n",
       "      <td>Satisfactory</td>\n",
       "      <td>False</td>\n",
       "      <td>No_card</td>\n",
       "      <td>No_violation</td>\n",
       "      <td>0</td>\n",
       "      <td>1.0</td>\n",
       "    </tr>\n",
       "  </tbody>\n",
       "</table>\n",
       "</div>"
      ],
      "text/plain": [
       "               Name Inspection_Date  \\\n",
       "48  100TH AVE CAKES      06/03/2022   \n",
       "49  100TH AVE CAKES      04/29/2022   \n",
       "50  100TH AVE CAKES      12/09/2021   \n",
       "51      101 GROCERY      04/14/2022   \n",
       "52      101 GROCERY      10/11/2021   \n",
       "\n",
       "                                   Description     City   Longitude  \\\n",
       "48        Bakery-no seating - Risk Category II  REDMOND -122.133729   \n",
       "49        Bakery-no seating - Risk Category II  REDMOND -122.133729   \n",
       "50        Bakery-no seating - Risk Category II  REDMOND -122.133729   \n",
       "51  Grocery Store-no seating - Risk Category I   RENTON -122.213939   \n",
       "52  Grocery Store-no seating - Risk Category I   RENTON -122.213939   \n",
       "\n",
       "     Latitude                  Inspection_Type  Inspection_Score  \\\n",
       "48  47.687230   Consultation/Education - Field               0.0   \n",
       "49  47.687230  Routine Inspection/Field Review               0.0   \n",
       "50  47.687230  Routine Inspection/Field Review               0.0   \n",
       "51  47.476012  Routine Inspection/Field Review               0.0   \n",
       "52  47.476012  Routine Inspection/Field Review               0.0   \n",
       "\n",
       "   Inspection_Result Inspection_Closed_Business Violation_Type  \\\n",
       "48          Complete                      False        No_card   \n",
       "49          Complete                      False        No_card   \n",
       "50      Satisfactory                      False        No_card   \n",
       "51      Satisfactory                      False        No_card   \n",
       "52      Satisfactory                      False        No_card   \n",
       "\n",
       "   Violation_Description  Violation_Points  Grade  \n",
       "48          No_violation                 0    1.0  \n",
       "49          No_violation                 0    1.0  \n",
       "50          No_violation                 0    1.0  \n",
       "51          No_violation                 0    1.0  \n",
       "52          No_violation                 0    1.0  "
      ]
     },
     "execution_count": 185,
     "metadata": {},
     "output_type": "execute_result"
    }
   ],
   "source": [
    "df3.loc[:,('Grade')] =np.round( df3.groupby(['Inspection_Score'])['Grade']\n",
    "                     .apply(lambda x: x.fillna(x.mean())))\n",
    "df3.loc[idx].head()"
   ]
  },
  {
   "cell_type": "markdown",
   "metadata": {
    "id": "lneZ0nr3H7Il"
   },
   "source": [
    "# FILL LONGTITUDE AND LATITUDE COLUMNS                \n"
   ]
  },
  {
   "cell_type": "code",
   "execution_count": 186,
   "metadata": {
    "colab": {
     "base_uri": "https://localhost:8080/",
     "height": 0
    },
    "id": "Yy8KpRwCIErT",
    "outputId": "e290e385-e550-417c-807f-4eb68ca3d938"
   },
   "outputs": [
    {
     "data": {
      "text/plain": [
       "Int64Index([   727,    792,    793,   3193,   3993,   5029,   5232,   5233,\n",
       "              8535,   8536,\n",
       "            ...\n",
       "            240116, 242870, 242871, 243831, 243832, 243833, 243834, 243835,\n",
       "            247501, 249518],\n",
       "           dtype='int64', length=168)"
      ]
     },
     "execution_count": 186,
     "metadata": {},
     "output_type": "execute_result"
    }
   ],
   "source": [
    "idx=df3[df3[\"Longitude\"].isnull()].index\n",
    "idx"
   ]
  },
  {
   "cell_type": "code",
   "execution_count": 187,
   "metadata": {
    "colab": {
     "base_uri": "https://localhost:8080/",
     "height": 440
    },
    "id": "MCX4LhtkIsKr",
    "outputId": "f4233657-0794-48a6-ed8d-e419f73800a9"
   },
   "outputs": [
    {
     "name": "stderr",
     "output_type": "stream",
     "text": [
      "C:\\Users\\Sara Safi\\anaconda3\\lib\\site-packages\\pandas\\core\\indexing.py:1745: SettingWithCopyWarning: \n",
      "A value is trying to be set on a copy of a slice from a DataFrame.\n",
      "Try using .loc[row_indexer,col_indexer] = value instead\n",
      "\n",
      "See the caveats in the documentation: https://pandas.pydata.org/pandas-docs/stable/user_guide/indexing.html#returning-a-view-versus-a-copy\n",
      "  isetter(ilocs[0], value)\n"
     ]
    },
    {
     "data": {
      "text/html": [
       "<div>\n",
       "<style scoped>\n",
       "    .dataframe tbody tr th:only-of-type {\n",
       "        vertical-align: middle;\n",
       "    }\n",
       "\n",
       "    .dataframe tbody tr th {\n",
       "        vertical-align: top;\n",
       "    }\n",
       "\n",
       "    .dataframe thead th {\n",
       "        text-align: right;\n",
       "    }\n",
       "</style>\n",
       "<table border=\"1\" class=\"dataframe\">\n",
       "  <thead>\n",
       "    <tr style=\"text-align: right;\">\n",
       "      <th></th>\n",
       "      <th>Name</th>\n",
       "      <th>Inspection_Date</th>\n",
       "      <th>Description</th>\n",
       "      <th>City</th>\n",
       "      <th>Longitude</th>\n",
       "      <th>Latitude</th>\n",
       "      <th>Inspection_Type</th>\n",
       "      <th>Inspection_Score</th>\n",
       "      <th>Inspection_Result</th>\n",
       "      <th>Inspection_Closed_Business</th>\n",
       "      <th>Violation_Type</th>\n",
       "      <th>Violation_Description</th>\n",
       "      <th>Violation_Points</th>\n",
       "      <th>Grade</th>\n",
       "    </tr>\n",
       "  </thead>\n",
       "  <tbody>\n",
       "    <tr>\n",
       "      <th>727</th>\n",
       "      <td>5 STONES COFFEE COMPANY</td>\n",
       "      <td>09/14/2022</td>\n",
       "      <td>Seating 13-50 - Risk Category III</td>\n",
       "      <td>KIRKLAND</td>\n",
       "      <td>-122.235993</td>\n",
       "      <td>NaN</td>\n",
       "      <td>Consultation/Education - Field</td>\n",
       "      <td>0.0</td>\n",
       "      <td>Complete</td>\n",
       "      <td>False</td>\n",
       "      <td>No_card</td>\n",
       "      <td>No_violation</td>\n",
       "      <td>0</td>\n",
       "      <td>1.0</td>\n",
       "    </tr>\n",
       "    <tr>\n",
       "      <th>792</th>\n",
       "      <td>55 SUNSET</td>\n",
       "      <td>05/19/2022</td>\n",
       "      <td>Seating 51-150 - Risk Category III</td>\n",
       "      <td>ISSAQUAH</td>\n",
       "      <td>-122.247082</td>\n",
       "      <td>NaN</td>\n",
       "      <td>Routine Inspection/Field Review</td>\n",
       "      <td>10.0</td>\n",
       "      <td>Unsatisfactory</td>\n",
       "      <td>False</td>\n",
       "      <td>BLUE</td>\n",
       "      <td>4400 - Plumbing properly sized, installed,...</td>\n",
       "      <td>5</td>\n",
       "      <td>1.0</td>\n",
       "    </tr>\n",
       "  </tbody>\n",
       "</table>\n",
       "</div>"
      ],
      "text/plain": [
       "                        Name Inspection_Date  \\\n",
       "727  5 STONES COFFEE COMPANY      09/14/2022   \n",
       "792                55 SUNSET      05/19/2022   \n",
       "\n",
       "                            Description      City   Longitude  Latitude  \\\n",
       "727   Seating 13-50 - Risk Category III  KIRKLAND -122.235993       NaN   \n",
       "792  Seating 51-150 - Risk Category III  ISSAQUAH -122.247082       NaN   \n",
       "\n",
       "                     Inspection_Type  Inspection_Score Inspection_Result  \\\n",
       "727   Consultation/Education - Field               0.0          Complete   \n",
       "792  Routine Inspection/Field Review              10.0    Unsatisfactory   \n",
       "\n",
       "    Inspection_Closed_Business Violation_Type  \\\n",
       "727                      False        No_card   \n",
       "792                      False           BLUE   \n",
       "\n",
       "                             Violation_Description  Violation_Points  Grade  \n",
       "727                                   No_violation                 0    1.0  \n",
       "792  4400 - Plumbing properly sized, installed,...                 5    1.0  "
      ]
     },
     "execution_count": 187,
     "metadata": {},
     "output_type": "execute_result"
    }
   ],
   "source": [
    "df3.loc[:,(\"Longitude\")]=df3[\"Longitude\"].interpolate(method='linear')\n",
    "df3.loc[idx].head(2)"
   ]
  },
  {
   "cell_type": "code",
   "execution_count": 188,
   "metadata": {
    "colab": {
     "base_uri": "https://localhost:8080/",
     "height": 440
    },
    "id": "oF5ErZSyI5It",
    "outputId": "93db24fc-bafd-4a28-d9fe-202941bb4b27"
   },
   "outputs": [
    {
     "name": "stderr",
     "output_type": "stream",
     "text": [
      "C:\\Users\\Sara Safi\\anaconda3\\lib\\site-packages\\pandas\\core\\indexing.py:1745: SettingWithCopyWarning: \n",
      "A value is trying to be set on a copy of a slice from a DataFrame.\n",
      "Try using .loc[row_indexer,col_indexer] = value instead\n",
      "\n",
      "See the caveats in the documentation: https://pandas.pydata.org/pandas-docs/stable/user_guide/indexing.html#returning-a-view-versus-a-copy\n",
      "  isetter(ilocs[0], value)\n"
     ]
    },
    {
     "data": {
      "text/html": [
       "<div>\n",
       "<style scoped>\n",
       "    .dataframe tbody tr th:only-of-type {\n",
       "        vertical-align: middle;\n",
       "    }\n",
       "\n",
       "    .dataframe tbody tr th {\n",
       "        vertical-align: top;\n",
       "    }\n",
       "\n",
       "    .dataframe thead th {\n",
       "        text-align: right;\n",
       "    }\n",
       "</style>\n",
       "<table border=\"1\" class=\"dataframe\">\n",
       "  <thead>\n",
       "    <tr style=\"text-align: right;\">\n",
       "      <th></th>\n",
       "      <th>Name</th>\n",
       "      <th>Inspection_Date</th>\n",
       "      <th>Description</th>\n",
       "      <th>City</th>\n",
       "      <th>Longitude</th>\n",
       "      <th>Latitude</th>\n",
       "      <th>Inspection_Type</th>\n",
       "      <th>Inspection_Score</th>\n",
       "      <th>Inspection_Result</th>\n",
       "      <th>Inspection_Closed_Business</th>\n",
       "      <th>Violation_Type</th>\n",
       "      <th>Violation_Description</th>\n",
       "      <th>Violation_Points</th>\n",
       "      <th>Grade</th>\n",
       "    </tr>\n",
       "  </thead>\n",
       "  <tbody>\n",
       "    <tr>\n",
       "      <th>727</th>\n",
       "      <td>5 STONES COFFEE COMPANY</td>\n",
       "      <td>09/14/2022</td>\n",
       "      <td>Seating 13-50 - Risk Category III</td>\n",
       "      <td>KIRKLAND</td>\n",
       "      <td>-122.235993</td>\n",
       "      <td>47.592481</td>\n",
       "      <td>Consultation/Education - Field</td>\n",
       "      <td>0.0</td>\n",
       "      <td>Complete</td>\n",
       "      <td>False</td>\n",
       "      <td>No_card</td>\n",
       "      <td>No_violation</td>\n",
       "      <td>0</td>\n",
       "      <td>1.0</td>\n",
       "    </tr>\n",
       "    <tr>\n",
       "      <th>792</th>\n",
       "      <td>55 SUNSET</td>\n",
       "      <td>05/19/2022</td>\n",
       "      <td>Seating 51-150 - Risk Category III</td>\n",
       "      <td>ISSAQUAH</td>\n",
       "      <td>-122.247082</td>\n",
       "      <td>47.629764</td>\n",
       "      <td>Routine Inspection/Field Review</td>\n",
       "      <td>10.0</td>\n",
       "      <td>Unsatisfactory</td>\n",
       "      <td>False</td>\n",
       "      <td>BLUE</td>\n",
       "      <td>4400 - Plumbing properly sized, installed,...</td>\n",
       "      <td>5</td>\n",
       "      <td>1.0</td>\n",
       "    </tr>\n",
       "  </tbody>\n",
       "</table>\n",
       "</div>"
      ],
      "text/plain": [
       "                        Name Inspection_Date  \\\n",
       "727  5 STONES COFFEE COMPANY      09/14/2022   \n",
       "792                55 SUNSET      05/19/2022   \n",
       "\n",
       "                            Description      City   Longitude   Latitude  \\\n",
       "727   Seating 13-50 - Risk Category III  KIRKLAND -122.235993  47.592481   \n",
       "792  Seating 51-150 - Risk Category III  ISSAQUAH -122.247082  47.629764   \n",
       "\n",
       "                     Inspection_Type  Inspection_Score Inspection_Result  \\\n",
       "727   Consultation/Education - Field               0.0          Complete   \n",
       "792  Routine Inspection/Field Review              10.0    Unsatisfactory   \n",
       "\n",
       "    Inspection_Closed_Business Violation_Type  \\\n",
       "727                      False        No_card   \n",
       "792                      False           BLUE   \n",
       "\n",
       "                             Violation_Description  Violation_Points  Grade  \n",
       "727                                   No_violation                 0    1.0  \n",
       "792  4400 - Plumbing properly sized, installed,...                 5    1.0  "
      ]
     },
     "execution_count": 188,
     "metadata": {},
     "output_type": "execute_result"
    }
   ],
   "source": [
    "df3.loc[:,\"Latitude\"]=df3[\"Latitude\"].interpolate(method='linear')\n",
    "df3.loc[idx].head(2)"
   ]
  },
  {
   "cell_type": "markdown",
   "metadata": {},
   "source": [
    "# OUTLIERS\n",
    "حذف کردن داده های عددی پرت در دیتاست\n"
   ]
  },
  {
   "cell_type": "code",
   "execution_count": 189,
   "metadata": {},
   "outputs": [
    {
     "data": {
      "text/plain": [
       "<AxesSubplot:>"
      ]
     },
     "execution_count": 189,
     "metadata": {},
     "output_type": "execute_result"
    },
    {
     "data": {
      "image/png": "[encoded data removed]",
      "text/plain": [
       "<Figure size 720x360 with 1 Axes>"
      ]
     },
     "metadata": {
      "needs_background": "light"
     },
     "output_type": "display_data"
    }
   ],
   "source": [
    "plt.figure(figsize=(10,5))\n",
    "plt.xticks(rotation=45)\n",
    "sns.boxplot(data=df3)"
   ]
  },
  {
   "cell_type": "code",
   "execution_count": 190,
   "metadata": {},
   "outputs": [
    {
     "data": {
      "text/html": [
       "<div>\n",
       "<style scoped>\n",
       "    .dataframe tbody tr th:only-of-type {\n",
       "        vertical-align: middle;\n",
       "    }\n",
       "\n",
       "    .dataframe tbody tr th {\n",
       "        vertical-align: top;\n",
       "    }\n",
       "\n",
       "    .dataframe thead th {\n",
       "        text-align: right;\n",
       "    }\n",
       "</style>\n",
       "<table border=\"1\" class=\"dataframe\">\n",
       "  <thead>\n",
       "    <tr style=\"text-align: right;\">\n",
       "      <th></th>\n",
       "      <th>Longitude</th>\n",
       "      <th>Latitude</th>\n",
       "      <th>Inspection_Score</th>\n",
       "      <th>Violation_Points</th>\n",
       "      <th>Grade</th>\n",
       "    </tr>\n",
       "  </thead>\n",
       "  <tbody>\n",
       "    <tr>\n",
       "      <th>count</th>\n",
       "      <td>249599.000000</td>\n",
       "      <td>249599.000000</td>\n",
       "      <td>249599.000000</td>\n",
       "      <td>249599.000000</td>\n",
       "      <td>249599.000000</td>\n",
       "    </tr>\n",
       "    <tr>\n",
       "      <th>mean</th>\n",
       "      <td>-122.256317</td>\n",
       "      <td>47.563881</td>\n",
       "      <td>14.135706</td>\n",
       "      <td>4.422193</td>\n",
       "      <td>1.311576</td>\n",
       "    </tr>\n",
       "    <tr>\n",
       "      <th>std</th>\n",
       "      <td>0.113805</td>\n",
       "      <td>0.128704</td>\n",
       "      <td>20.280562</td>\n",
       "      <td>6.163201</td>\n",
       "      <td>0.539032</td>\n",
       "    </tr>\n",
       "    <tr>\n",
       "      <th>min</th>\n",
       "      <td>-122.518749</td>\n",
       "      <td>47.155934</td>\n",
       "      <td>-30.000000</td>\n",
       "      <td>0.000000</td>\n",
       "      <td>1.000000</td>\n",
       "    </tr>\n",
       "    <tr>\n",
       "      <th>25%</th>\n",
       "      <td>-122.333598</td>\n",
       "      <td>47.479313</td>\n",
       "      <td>0.000000</td>\n",
       "      <td>0.000000</td>\n",
       "      <td>1.000000</td>\n",
       "    </tr>\n",
       "    <tr>\n",
       "      <th>50%</th>\n",
       "      <td>-122.299610</td>\n",
       "      <td>47.604292</td>\n",
       "      <td>5.000000</td>\n",
       "      <td>3.000000</td>\n",
       "      <td>1.000000</td>\n",
       "    </tr>\n",
       "    <tr>\n",
       "      <th>75%</th>\n",
       "      <td>-122.197875</td>\n",
       "      <td>47.661564</td>\n",
       "      <td>20.000000</td>\n",
       "      <td>5.000000</td>\n",
       "      <td>2.000000</td>\n",
       "    </tr>\n",
       "    <tr>\n",
       "      <th>max</th>\n",
       "      <td>-121.090900</td>\n",
       "      <td>48.415296</td>\n",
       "      <td>178.000000</td>\n",
       "      <td>30.000000</td>\n",
       "      <td>4.000000</td>\n",
       "    </tr>\n",
       "  </tbody>\n",
       "</table>\n",
       "</div>"
      ],
      "text/plain": [
       "           Longitude       Latitude  Inspection_Score  Violation_Points  \\\n",
       "count  249599.000000  249599.000000     249599.000000     249599.000000   \n",
       "mean     -122.256317      47.563881         14.135706          4.422193   \n",
       "std         0.113805       0.128704         20.280562          6.163201   \n",
       "min      -122.518749      47.155934        -30.000000          0.000000   \n",
       "25%      -122.333598      47.479313          0.000000          0.000000   \n",
       "50%      -122.299610      47.604292          5.000000          3.000000   \n",
       "75%      -122.197875      47.661564         20.000000          5.000000   \n",
       "max      -121.090900      48.415296        178.000000         30.000000   \n",
       "\n",
       "               Grade  \n",
       "count  249599.000000  \n",
       "mean        1.311576  \n",
       "std         0.539032  \n",
       "min         1.000000  \n",
       "25%         1.000000  \n",
       "50%         1.000000  \n",
       "75%         2.000000  \n",
       "max         4.000000  "
      ]
     },
     "execution_count": 190,
     "metadata": {},
     "output_type": "execute_result"
    }
   ],
   "source": [
    "df3.describe()"
   ]
  },
  {
   "cell_type": "code",
   "execution_count": 191,
   "metadata": {},
   "outputs": [
    {
     "data": {
      "text/html": [
       "<div>\n",
       "<style scoped>\n",
       "    .dataframe tbody tr th:only-of-type {\n",
       "        vertical-align: middle;\n",
       "    }\n",
       "\n",
       "    .dataframe tbody tr th {\n",
       "        vertical-align: top;\n",
       "    }\n",
       "\n",
       "    .dataframe thead th {\n",
       "        text-align: right;\n",
       "    }\n",
       "</style>\n",
       "<table border=\"1\" class=\"dataframe\">\n",
       "  <thead>\n",
       "    <tr style=\"text-align: right;\">\n",
       "      <th></th>\n",
       "      <th>Longitude</th>\n",
       "      <th>Latitude</th>\n",
       "      <th>Inspection_Score</th>\n",
       "      <th>Violation_Points</th>\n",
       "      <th>Grade</th>\n",
       "    </tr>\n",
       "  </thead>\n",
       "  <tbody>\n",
       "    <tr>\n",
       "      <th>count</th>\n",
       "      <td>215786.000000</td>\n",
       "      <td>215786.000000</td>\n",
       "      <td>215786.000000</td>\n",
       "      <td>215786.000000</td>\n",
       "      <td>215786.000000</td>\n",
       "    </tr>\n",
       "    <tr>\n",
       "      <th>mean</th>\n",
       "      <td>-122.268028</td>\n",
       "      <td>47.564922</td>\n",
       "      <td>9.180730</td>\n",
       "      <td>2.959840</td>\n",
       "      <td>1.266713</td>\n",
       "    </tr>\n",
       "    <tr>\n",
       "      <th>std</th>\n",
       "      <td>0.092413</td>\n",
       "      <td>0.126427</td>\n",
       "      <td>12.434582</td>\n",
       "      <td>3.412033</td>\n",
       "      <td>0.503798</td>\n",
       "    </tr>\n",
       "    <tr>\n",
       "      <th>min</th>\n",
       "      <td>-122.518749</td>\n",
       "      <td>47.206825</td>\n",
       "      <td>-30.000000</td>\n",
       "      <td>0.000000</td>\n",
       "      <td>1.000000</td>\n",
       "    </tr>\n",
       "    <tr>\n",
       "      <th>25%</th>\n",
       "      <td>-122.334508</td>\n",
       "      <td>47.477523</td>\n",
       "      <td>0.000000</td>\n",
       "      <td>0.000000</td>\n",
       "      <td>1.000000</td>\n",
       "    </tr>\n",
       "    <tr>\n",
       "      <th>50%</th>\n",
       "      <td>-122.303411</td>\n",
       "      <td>47.605007</td>\n",
       "      <td>3.000000</td>\n",
       "      <td>2.000000</td>\n",
       "      <td>1.000000</td>\n",
       "    </tr>\n",
       "    <tr>\n",
       "      <th>75%</th>\n",
       "      <td>-122.203395</td>\n",
       "      <td>47.661577</td>\n",
       "      <td>15.000000</td>\n",
       "      <td>5.000000</td>\n",
       "      <td>1.000000</td>\n",
       "    </tr>\n",
       "    <tr>\n",
       "      <th>max</th>\n",
       "      <td>-121.996578</td>\n",
       "      <td>47.926919</td>\n",
       "      <td>50.000000</td>\n",
       "      <td>10.000000</td>\n",
       "      <td>4.000000</td>\n",
       "    </tr>\n",
       "  </tbody>\n",
       "</table>\n",
       "</div>"
      ],
      "text/plain": [
       "           Longitude       Latitude  Inspection_Score  Violation_Points  \\\n",
       "count  215786.000000  215786.000000     215786.000000     215786.000000   \n",
       "mean     -122.268028      47.564922          9.180730          2.959840   \n",
       "std         0.092413       0.126427         12.434582          3.412033   \n",
       "min      -122.518749      47.206825        -30.000000          0.000000   \n",
       "25%      -122.334508      47.477523          0.000000          0.000000   \n",
       "50%      -122.303411      47.605007          3.000000          2.000000   \n",
       "75%      -122.203395      47.661577         15.000000          5.000000   \n",
       "max      -121.996578      47.926919         50.000000         10.000000   \n",
       "\n",
       "               Grade  \n",
       "count  215786.000000  \n",
       "mean        1.266713  \n",
       "std         0.503798  \n",
       "min         1.000000  \n",
       "25%         1.000000  \n",
       "50%         1.000000  \n",
       "75%         1.000000  \n",
       "max         4.000000  "
      ]
     },
     "execution_count": 191,
     "metadata": {},
     "output_type": "execute_result"
    }
   ],
   "source": [
    "cols = [\"Longitude\",\"Latitude\",\"Inspection_Score\",\"Violation_Points\"]\n",
    "Q1=df3.quantile(0.25)\n",
    "Q3=df3.quantile(0.75)\n",
    "IQR=Q3-Q1\n",
    "new_data =df3[ ~((df3[cols] < (Q1 - 1.5 * IQR)) | (df3[cols] > (Q3 + 1.5 * IQR))).any(axis=1)]\n",
    "new_data.describe()\n"
   ]
  },
  {
   "cell_type": "markdown",
   "metadata": {},
   "source": [
    "همانطور که ملاحظه میشود مقادیر پرت داده ها حذف شدند و نتیجه در جدول بالا امده است "
   ]
  },
  {
   "cell_type": "code",
   "execution_count": 192,
   "metadata": {},
   "outputs": [],
   "source": [
    "data=df3.to_csv('final_data1.csv')"
   ]
  },
  {
   "cell_type": "code",
   "execution_count": 193,
   "metadata": {},
   "outputs": [
    {
     "data": {
      "text/html": [
       "<div>\n",
       "<style scoped>\n",
       "    .dataframe tbody tr th:only-of-type {\n",
       "        vertical-align: middle;\n",
       "    }\n",
       "\n",
       "    .dataframe tbody tr th {\n",
       "        vertical-align: top;\n",
       "    }\n",
       "\n",
       "    .dataframe thead th {\n",
       "        text-align: right;\n",
       "    }\n",
       "</style>\n",
       "<table border=\"1\" class=\"dataframe\">\n",
       "  <thead>\n",
       "    <tr style=\"text-align: right;\">\n",
       "      <th></th>\n",
       "      <th>Unnamed: 0</th>\n",
       "      <th>Name</th>\n",
       "      <th>Inspection_Date</th>\n",
       "      <th>Description</th>\n",
       "      <th>City</th>\n",
       "      <th>Longitude</th>\n",
       "      <th>Latitude</th>\n",
       "      <th>Inspection_Type</th>\n",
       "      <th>Inspection_Score</th>\n",
       "      <th>Inspection_Result</th>\n",
       "      <th>Inspection_Closed_Business</th>\n",
       "      <th>Violation_Type</th>\n",
       "      <th>Violation_Description</th>\n",
       "      <th>Violation_Points</th>\n",
       "      <th>Grade</th>\n",
       "    </tr>\n",
       "  </thead>\n",
       "  <tbody>\n",
       "    <tr>\n",
       "      <th>0</th>\n",
       "      <td>0</td>\n",
       "      <td>#807 TUTTA BELLA</td>\n",
       "      <td>08/31/2022</td>\n",
       "      <td>Seating 0-12 - Risk Category III</td>\n",
       "      <td>SEATTLE</td>\n",
       "      <td>-122.296415</td>\n",
       "      <td>47.662311</td>\n",
       "      <td>Routine Inspection/Field Review</td>\n",
       "      <td>10.0</td>\n",
       "      <td>Unsatisfactory</td>\n",
       "      <td>False</td>\n",
       "      <td>BLUE</td>\n",
       "      <td>3200 - Insects, rodents, animals not present; ...</td>\n",
       "      <td>5</td>\n",
       "      <td>1.0</td>\n",
       "    </tr>\n",
       "    <tr>\n",
       "      <th>1</th>\n",
       "      <td>1</td>\n",
       "      <td>#807 TUTTA BELLA</td>\n",
       "      <td>08/31/2022</td>\n",
       "      <td>Seating 0-12 - Risk Category III</td>\n",
       "      <td>SEATTLE</td>\n",
       "      <td>-122.296415</td>\n",
       "      <td>47.662311</td>\n",
       "      <td>Routine Inspection/Field Review</td>\n",
       "      <td>10.0</td>\n",
       "      <td>Unsatisfactory</td>\n",
       "      <td>False</td>\n",
       "      <td>RED</td>\n",
       "      <td>0200 - Food Worker Cards current for all food ...</td>\n",
       "      <td>5</td>\n",
       "      <td>1.0</td>\n",
       "    </tr>\n",
       "    <tr>\n",
       "      <th>2</th>\n",
       "      <td>2</td>\n",
       "      <td>#807 TUTTA BELLA</td>\n",
       "      <td>01/13/2022</td>\n",
       "      <td>Seating 0-12 - Risk Category III</td>\n",
       "      <td>SEATTLE</td>\n",
       "      <td>-122.296415</td>\n",
       "      <td>47.662311</td>\n",
       "      <td>Routine Inspection/Field Review</td>\n",
       "      <td>0.0</td>\n",
       "      <td>Satisfactory</td>\n",
       "      <td>False</td>\n",
       "      <td>No_card</td>\n",
       "      <td>No_violation</td>\n",
       "      <td>0</td>\n",
       "      <td>1.0</td>\n",
       "    </tr>\n",
       "    <tr>\n",
       "      <th>3</th>\n",
       "      <td>3</td>\n",
       "      <td>#807 TUTTA BELLA</td>\n",
       "      <td>01/06/2021</td>\n",
       "      <td>Seating 0-12 - Risk Category III</td>\n",
       "      <td>SEATTLE</td>\n",
       "      <td>-122.296415</td>\n",
       "      <td>47.662311</td>\n",
       "      <td>Routine Inspection/Field Review</td>\n",
       "      <td>0.0</td>\n",
       "      <td>Satisfactory</td>\n",
       "      <td>False</td>\n",
       "      <td>No_card</td>\n",
       "      <td>No_violation</td>\n",
       "      <td>0</td>\n",
       "      <td>1.0</td>\n",
       "    </tr>\n",
       "    <tr>\n",
       "      <th>4</th>\n",
       "      <td>4</td>\n",
       "      <td>+MAS CAFE</td>\n",
       "      <td>07/13/2022</td>\n",
       "      <td>Seating 0-12 - Risk Category III</td>\n",
       "      <td>SEATTLE</td>\n",
       "      <td>-122.334587</td>\n",
       "      <td>47.648180</td>\n",
       "      <td>Return Inspection</td>\n",
       "      <td>0.0</td>\n",
       "      <td>Satisfactory</td>\n",
       "      <td>False</td>\n",
       "      <td>No_card</td>\n",
       "      <td>No_violation</td>\n",
       "      <td>0</td>\n",
       "      <td>2.0</td>\n",
       "    </tr>\n",
       "  </tbody>\n",
       "</table>\n",
       "</div>"
      ],
      "text/plain": [
       "   Unnamed: 0              Name Inspection_Date  \\\n",
       "0           0  #807 TUTTA BELLA      08/31/2022   \n",
       "1           1  #807 TUTTA BELLA      08/31/2022   \n",
       "2           2  #807 TUTTA BELLA      01/13/2022   \n",
       "3           3  #807 TUTTA BELLA      01/06/2021   \n",
       "4           4         +MAS CAFE      07/13/2022   \n",
       "\n",
       "                        Description     City   Longitude   Latitude  \\\n",
       "0  Seating 0-12 - Risk Category III  SEATTLE -122.296415  47.662311   \n",
       "1  Seating 0-12 - Risk Category III  SEATTLE -122.296415  47.662311   \n",
       "2  Seating 0-12 - Risk Category III  SEATTLE -122.296415  47.662311   \n",
       "3  Seating 0-12 - Risk Category III  SEATTLE -122.296415  47.662311   \n",
       "4  Seating 0-12 - Risk Category III  SEATTLE -122.334587  47.648180   \n",
       "\n",
       "                   Inspection_Type  Inspection_Score Inspection_Result  \\\n",
       "0  Routine Inspection/Field Review              10.0    Unsatisfactory   \n",
       "1  Routine Inspection/Field Review              10.0    Unsatisfactory   \n",
       "2  Routine Inspection/Field Review               0.0      Satisfactory   \n",
       "3  Routine Inspection/Field Review               0.0      Satisfactory   \n",
       "4                Return Inspection               0.0      Satisfactory   \n",
       "\n",
       "   Inspection_Closed_Business Violation_Type  \\\n",
       "0                       False           BLUE   \n",
       "1                       False            RED   \n",
       "2                       False        No_card   \n",
       "3                       False        No_card   \n",
       "4                       False        No_card   \n",
       "\n",
       "                               Violation_Description  Violation_Points  Grade  \n",
       "0  3200 - Insects, rodents, animals not present; ...                 5    1.0  \n",
       "1  0200 - Food Worker Cards current for all food ...                 5    1.0  \n",
       "2                                       No_violation                 0    1.0  \n",
       "3                                       No_violation                 0    1.0  \n",
       "4                                       No_violation                 0    2.0  "
      ]
     },
     "execution_count": 193,
     "metadata": {},
     "output_type": "execute_result"
    }
   ],
   "source": [
    "df=pd.read_csv('final_data1.csv')\n",
    "df.head()"
   ]
  },
  {
   "cell_type": "code",
   "execution_count": 194,
   "metadata": {},
   "outputs": [
    {
     "data": {
      "text/plain": [
       "Unnamed: 0                    0\n",
       "Name                          0\n",
       "Inspection_Date               0\n",
       "Description                   0\n",
       "City                          0\n",
       "Longitude                     0\n",
       "Latitude                      0\n",
       "Inspection_Type               0\n",
       "Inspection_Score              0\n",
       "Inspection_Result             0\n",
       "Inspection_Closed_Business    0\n",
       "Violation_Type                0\n",
       "Violation_Description         0\n",
       "Violation_Points              0\n",
       "Grade                         0\n",
       "dtype: int64"
      ]
     },
     "execution_count": 194,
     "metadata": {},
     "output_type": "execute_result"
    }
   ],
   "source": [
    "df.isna().sum()"
   ]
  },
  {
   "cell_type": "code",
   "execution_count": null,
   "metadata": {},
   "outputs": [],
   "source": []
  }
 ],
 "metadata": {
  "colab": {
   "provenance": []
  },
  "kernelspec": {
   "display_name": "Python 3",
   "language": "python",
   "name": "python3"
  },
  "language_info": {
   "codemirror_mode": {
    "name": "ipython",
    "version": 3
   },
   "file_extension": ".py",
   "mimetype": "text/x-python",
   "name": "python",
   "nbconvert_exporter": "python",
   "pygments_lexer": "ipython3",
   "version": "3.8.5"
  }
 },
 "nbformat": 4,
 "nbformat_minor": 1
}
